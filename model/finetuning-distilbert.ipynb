{
 "cells": [
  {
   "cell_type": "markdown",
   "metadata": {},
   "source": [
    "## Define model"
   ]
  },
  {
   "cell_type": "code",
   "execution_count": 1,
   "metadata": {
    "execution": {
     "iopub.execute_input": "2025-04-13T14:49:37.905141Z",
     "iopub.status.busy": "2025-04-13T14:49:37.904853Z",
     "iopub.status.idle": "2025-04-13T14:49:46.313696Z",
     "shell.execute_reply": "2025-04-13T14:49:46.313114Z",
     "shell.execute_reply.started": "2025-04-13T14:49:37.905117Z"
    },
    "trusted": true
   },
   "outputs": [
    {
     "name": "stderr",
     "output_type": "stream",
     "text": [
      "c:\\Users\\ADMIN\\AppData\\Local\\Programs\\Python\\Python313\\Lib\\site-packages\\tqdm\\auto.py:21: TqdmWarning: IProgress not found. Please update jupyter and ipywidgets. See https://ipywidgets.readthedocs.io/en/stable/user_install.html\n",
      "  from .autonotebook import tqdm as notebook_tqdm\n"
     ]
    }
   ],
   "source": [
    "from transformers import AutoTokenizer, AutoModelForSequenceClassification\n",
    "\n",
    "checkpoint = \"distilbert-base-uncased-finetuned-sst-2-english\"\n",
    "tokenizer = AutoTokenizer.from_pretrained(checkpoint)\n",
    "model = AutoModelForSequenceClassification.from_pretrained(checkpoint, num_labels=2)"
   ]
  },
  {
   "cell_type": "markdown",
   "metadata": {},
   "source": [
    "## Data Preprocessing"
   ]
  },
  {
   "cell_type": "code",
   "execution_count": 2,
   "metadata": {
    "execution": {
     "iopub.execute_input": "2025-04-13T14:49:46.315925Z",
     "iopub.status.busy": "2025-04-13T14:49:46.314919Z",
     "iopub.status.idle": "2025-04-13T14:49:46.538642Z",
     "shell.execute_reply": "2025-04-13T14:49:46.538062Z",
     "shell.execute_reply.started": "2025-04-13T14:49:46.315896Z"
    },
    "trusted": true
   },
   "outputs": [],
   "source": [
    "import pandas as pd\n",
    "# Load the training data\n",
    "path = '../data/'\n",
    "\n",
    "train_df = pd.read_csv(path + 'train.csv')\n",
    "valid_df = pd.read_csv(path + 'val.csv')\n",
    "test_df = pd.read_csv(path + 'test.csv')"
   ]
  },
  {
   "cell_type": "code",
   "execution_count": 3,
   "metadata": {
    "execution": {
     "iopub.execute_input": "2025-04-13T14:49:46.539608Z",
     "iopub.status.busy": "2025-04-13T14:49:46.539370Z",
     "iopub.status.idle": "2025-04-13T14:49:46.549547Z",
     "shell.execute_reply": "2025-04-13T14:49:46.548806Z",
     "shell.execute_reply.started": "2025-04-13T14:49:46.539589Z"
    },
    "trusted": true
   },
   "outputs": [
    {
     "data": {
      "text/html": [
       "<div>\n",
       "<style scoped>\n",
       "    .dataframe tbody tr th:only-of-type {\n",
       "        vertical-align: middle;\n",
       "    }\n",
       "\n",
       "    .dataframe tbody tr th {\n",
       "        vertical-align: top;\n",
       "    }\n",
       "\n",
       "    .dataframe thead th {\n",
       "        text-align: right;\n",
       "    }\n",
       "</style>\n",
       "<table border=\"1\" class=\"dataframe\">\n",
       "  <thead>\n",
       "    <tr style=\"text-align: right;\">\n",
       "      <th></th>\n",
       "      <th>Unnamed: 0</th>\n",
       "      <th>user_review</th>\n",
       "      <th>user_suggestion</th>\n",
       "    </tr>\n",
       "  </thead>\n",
       "  <tbody>\n",
       "    <tr>\n",
       "      <th>0</th>\n",
       "      <td>15004</td>\n",
       "      <td>freejam scammed 10 ing euros from me. i will f...</td>\n",
       "      <td>0</td>\n",
       "    </tr>\n",
       "    <tr>\n",
       "      <th>1</th>\n",
       "      <td>23876</td>\n",
       "      <td>mic issues can be real lol</td>\n",
       "      <td>1</td>\n",
       "    </tr>\n",
       "    <tr>\n",
       "      <th>2</th>\n",
       "      <td>29142</td>\n",
       "      <td>this may not be readily apparent, but south pa...</td>\n",
       "      <td>1</td>\n",
       "    </tr>\n",
       "    <tr>\n",
       "      <th>3</th>\n",
       "      <td>10724</td>\n",
       "      <td>i've been spending less time playing magic rec...</td>\n",
       "      <td>1</td>\n",
       "    </tr>\n",
       "    <tr>\n",
       "      <th>4</th>\n",
       "      <td>6521</td>\n",
       "      <td>never playing again... i would recommend this ...</td>\n",
       "      <td>0</td>\n",
       "    </tr>\n",
       "  </tbody>\n",
       "</table>\n",
       "</div>"
      ],
      "text/plain": [
       "   Unnamed: 0                                        user_review  \\\n",
       "0       15004  freejam scammed 10 ing euros from me. i will f...   \n",
       "1       23876                         mic issues can be real lol   \n",
       "2       29142  this may not be readily apparent, but south pa...   \n",
       "3       10724  i've been spending less time playing magic rec...   \n",
       "4        6521  never playing again... i would recommend this ...   \n",
       "\n",
       "   user_suggestion  \n",
       "0                0  \n",
       "1                1  \n",
       "2                1  \n",
       "3                1  \n",
       "4                0  "
      ]
     },
     "execution_count": 3,
     "metadata": {},
     "output_type": "execute_result"
    }
   ],
   "source": [
    "train_df.head()"
   ]
  },
  {
   "cell_type": "code",
   "execution_count": 4,
   "metadata": {
    "execution": {
     "iopub.execute_input": "2025-04-13T14:49:46.551581Z",
     "iopub.status.busy": "2025-04-13T14:49:46.551313Z",
     "iopub.status.idle": "2025-04-13T14:49:46.568203Z",
     "shell.execute_reply": "2025-04-13T14:49:46.567632Z",
     "shell.execute_reply.started": "2025-04-13T14:49:46.551565Z"
    },
    "trusted": true
   },
   "outputs": [
    {
     "name": "stdout",
     "output_type": "stream",
     "text": [
      "<class 'pandas.core.frame.DataFrame'>\n",
      "RangeIndex: 42604 entries, 0 to 42603\n",
      "Data columns (total 3 columns):\n",
      " #   Column           Non-Null Count  Dtype \n",
      "---  ------           --------------  ----- \n",
      " 0   Unnamed: 0       42604 non-null  int64 \n",
      " 1   user_review      42604 non-null  object\n",
      " 2   user_suggestion  42604 non-null  int64 \n",
      "dtypes: int64(2), object(1)\n",
      "memory usage: 998.7+ KB\n"
     ]
    }
   ],
   "source": [
    "train_df.info()"
   ]
  },
  {
   "cell_type": "code",
   "execution_count": 5,
   "metadata": {
    "execution": {
     "iopub.execute_input": "2025-04-13T14:49:46.569085Z",
     "iopub.status.busy": "2025-04-13T14:49:46.568813Z",
     "iopub.status.idle": "2025-04-13T14:49:46.583951Z",
     "shell.execute_reply": "2025-04-13T14:49:46.583413Z",
     "shell.execute_reply.started": "2025-04-13T14:49:46.569059Z"
    },
    "trusted": true
   },
   "outputs": [],
   "source": [
    "train_df = train_df.loc[:, ['user_review', 'user_suggestion']]\n",
    "valid_df = valid_df.loc[:, ['user_review', 'user_suggestion']]"
   ]
  },
  {
   "cell_type": "code",
   "execution_count": 6,
   "metadata": {
    "execution": {
     "iopub.execute_input": "2025-04-13T14:49:46.584921Z",
     "iopub.status.busy": "2025-04-13T14:49:46.584646Z",
     "iopub.status.idle": "2025-04-13T14:49:46.927447Z",
     "shell.execute_reply": "2025-04-13T14:49:46.926900Z",
     "shell.execute_reply.started": "2025-04-13T14:49:46.584897Z"
    },
    "trusted": true
   },
   "outputs": [],
   "source": [
    "from datasets import Dataset, DatasetDict\n",
    "\n",
    "raw_datasets = DatasetDict({\n",
    "    'train': Dataset.from_pandas(train_df),\n",
    "    'valid': Dataset.from_pandas(valid_df),\n",
    "    'test': Dataset.from_pandas(test_df),\n",
    "})"
   ]
  },
  {
   "cell_type": "code",
   "execution_count": 7,
   "metadata": {
    "execution": {
     "iopub.execute_input": "2025-04-13T14:49:46.928675Z",
     "iopub.status.busy": "2025-04-13T14:49:46.928154Z",
     "iopub.status.idle": "2025-04-13T14:49:46.934091Z",
     "shell.execute_reply": "2025-04-13T14:49:46.933205Z",
     "shell.execute_reply.started": "2025-04-13T14:49:46.928655Z"
    },
    "trusted": true
   },
   "outputs": [
    {
     "name": "stdout",
     "output_type": "stream",
     "text": [
      "Dataset Dict:\n",
      " DatasetDict({\n",
      "    train: Dataset({\n",
      "        features: ['user_review', 'user_suggestion'],\n",
      "        num_rows: 42604\n",
      "    })\n",
      "    valid: Dataset({\n",
      "        features: ['user_review', 'user_suggestion'],\n",
      "        num_rows: 5325\n",
      "    })\n",
      "    test: Dataset({\n",
      "        features: ['Unnamed: 0', 'user_review', 'user_suggestion'],\n",
      "        num_rows: 5326\n",
      "    })\n",
      "})\n",
      "\n",
      "\n",
      "Train's features:\n",
      " {'user_review': Value(dtype='string', id=None), 'user_suggestion': Value(dtype='int64', id=None)}\n",
      "\n",
      "\n",
      "First row of Train:\n",
      " {'user_review': 'freejam scammed 10 ing euros from me. i will find fj and destroy their s25 ing protonium crates and all was uningcommon.so if fj read this they will die quickly', 'user_suggestion': 0}\n"
     ]
    }
   ],
   "source": [
    "print(\"Dataset Dict:\\n\", raw_datasets)\n",
    "print(\"\\n\\nTrain's features:\\n\", raw_datasets[\"train\"].features)\n",
    "print(\"\\n\\nFirst row of Train:\\n\", raw_datasets[\"train\"][0])"
   ]
  },
  {
   "cell_type": "markdown",
   "metadata": {},
   "source": [
    "## Tokenize"
   ]
  },
  {
   "cell_type": "code",
   "execution_count": 8,
   "metadata": {
    "execution": {
     "iopub.execute_input": "2025-04-13T14:49:46.935172Z",
     "iopub.status.busy": "2025-04-13T14:49:46.934901Z",
     "iopub.status.idle": "2025-04-13T14:49:52.075929Z",
     "shell.execute_reply": "2025-04-13T14:49:52.075343Z",
     "shell.execute_reply.started": "2025-04-13T14:49:46.935147Z"
    },
    "trusted": true
   },
   "outputs": [
    {
     "name": "stderr",
     "output_type": "stream",
     "text": [
      "Map: 100%|██████████| 42604/42604 [00:01<00:00, 22075.15 examples/s]\n",
      "Map: 100%|██████████| 5325/5325 [00:00<00:00, 25223.86 examples/s]\n",
      "Map: 100%|██████████| 5326/5326 [00:00<00:00, 24763.01 examples/s]"
     ]
    },
    {
     "name": "stdout",
     "output_type": "stream",
     "text": [
      "DatasetDict({\n",
      "    train: Dataset({\n",
      "        features: ['user_review', 'user_suggestion', 'input_ids', 'attention_mask'],\n",
      "        num_rows: 42604\n",
      "    })\n",
      "    valid: Dataset({\n",
      "        features: ['user_review', 'user_suggestion', 'input_ids', 'attention_mask'],\n",
      "        num_rows: 5325\n",
      "    })\n",
      "    test: Dataset({\n",
      "        features: ['Unnamed: 0', 'user_review', 'user_suggestion', 'input_ids', 'attention_mask'],\n",
      "        num_rows: 5326\n",
      "    })\n",
      "})\n"
     ]
    },
    {
     "name": "stderr",
     "output_type": "stream",
     "text": [
      "\n"
     ]
    }
   ],
   "source": [
    "tokenized_datasets = raw_datasets.map(\n",
    "    lambda dataset: tokenizer(dataset['user_review'], truncation=True), \n",
    "    batched=True\n",
    ")\n",
    "\n",
    "print(tokenized_datasets)"
   ]
  },
  {
   "cell_type": "code",
   "execution_count": 9,
   "metadata": {
    "execution": {
     "iopub.execute_input": "2025-04-13T14:49:52.076865Z",
     "iopub.status.busy": "2025-04-13T14:49:52.076591Z",
     "iopub.status.idle": "2025-04-13T14:49:52.085773Z",
     "shell.execute_reply": "2025-04-13T14:49:52.085238Z",
     "shell.execute_reply.started": "2025-04-13T14:49:52.076840Z"
    },
    "trusted": true
   },
   "outputs": [],
   "source": [
    "tokenized_datasets = tokenized_datasets.remove_columns(['user_review'])\n",
    "tokenized_datasets = tokenized_datasets.rename_column('user_suggestion', 'labels')"
   ]
  },
  {
   "cell_type": "markdown",
   "metadata": {},
   "source": [
    "## Fine-tuning"
   ]
  },
  {
   "cell_type": "code",
   "execution_count": 10,
   "metadata": {
    "execution": {
     "iopub.execute_input": "2025-04-13T14:49:52.087909Z",
     "iopub.status.busy": "2025-04-13T14:49:52.087724Z",
     "iopub.status.idle": "2025-04-13T14:49:55.284501Z",
     "shell.execute_reply": "2025-04-13T14:49:55.283743Z",
     "shell.execute_reply.started": "2025-04-13T14:49:52.087895Z"
    },
    "trusted": true
   },
   "outputs": [],
   "source": [
    "!pip -q install evaluate"
   ]
  },
  {
   "cell_type": "code",
   "execution_count": 11,
   "metadata": {
    "execution": {
     "iopub.execute_input": "2025-04-13T14:49:55.286394Z",
     "iopub.status.busy": "2025-04-13T14:49:55.286149Z",
     "iopub.status.idle": "2025-04-13T14:49:56.334655Z",
     "shell.execute_reply": "2025-04-13T14:49:56.333930Z",
     "shell.execute_reply.started": "2025-04-13T14:49:55.286372Z"
    },
    "trusted": true
   },
   "outputs": [
    {
     "name": "stderr",
     "output_type": "stream",
     "text": [
      "C:\\Users\\ADMIN\\AppData\\Local\\Temp\\ipykernel_22812\\3639463310.py:27: FutureWarning: `tokenizer` is deprecated and will be removed in version 5.0.0 for `Trainer.__init__`. Use `processing_class` instead.\n",
      "  trainer = Trainer(\n"
     ]
    }
   ],
   "source": [
    "from transformers import Trainer, TrainingArguments, DataCollatorWithPadding\n",
    "import evaluate\n",
    "import numpy as np\n",
    "\n",
    "data_collator = DataCollatorWithPadding(tokenizer=tokenizer)\n",
    "\n",
    "training_args = TrainingArguments(\n",
    "    output_dir=\"fine-tuned model\", \n",
    "    num_train_epochs=3, \n",
    "    eval_strategy=\"epoch\", \n",
    "    weight_decay=5e-4, \n",
    "    save_strategy=\"no\", \n",
    "    fp16=True, \n",
    "    push_to_hub=False,\n",
    "    report_to=\"none\"\n",
    ")\n",
    "\n",
    "def compute_metrics(eval_pred):\n",
    "    metric_acc = evaluate.load(\"accuracy\")\n",
    "    metric_f1 = evaluate.load(\"f1\")\n",
    "    logits, labels = eval_pred\n",
    "    predictions = np.argmax(logits, axis=-1)\n",
    "    acc = metric_acc.compute(predictions=predictions, references=labels)\n",
    "    f1 = metric_f1.compute(predictions=predictions, references=labels, average=\"weighted\")\n",
    "    return {\"accuracy\": acc[\"accuracy\"], \"f1\": f1[\"f1\"]}\n",
    "\n",
    "trainer = Trainer(\n",
    "    model, \n",
    "    training_args,\n",
    "    train_dataset=tokenized_datasets['train'],\n",
    "    eval_dataset=tokenized_datasets['valid'],\n",
    "    data_collator=data_collator,\n",
    "    tokenizer=tokenizer,\n",
    "    compute_metrics=compute_metrics,\n",
    ")"
   ]
  },
  {
   "cell_type": "code",
   "execution_count": 12,
   "metadata": {
    "execution": {
     "iopub.execute_input": "2025-04-13T14:49:56.336275Z",
     "iopub.status.busy": "2025-04-13T14:49:56.335565Z",
     "iopub.status.idle": "2025-04-13T15:18:38.155097Z",
     "shell.execute_reply": "2025-04-13T15:18:38.154488Z",
     "shell.execute_reply.started": "2025-04-13T14:49:56.336249Z"
    },
    "trusted": true
   },
   "outputs": [
    {
     "data": {
      "text/html": [
       "\n",
       "    <div>\n",
       "      \n",
       "      <progress value='15978' max='15978' style='width:300px; height:20px; vertical-align: middle;'></progress>\n",
       "      [15978/15978 32:27, Epoch 3/3]\n",
       "    </div>\n",
       "    <table border=\"1\" class=\"dataframe\">\n",
       "  <thead>\n",
       " <tr style=\"text-align: left;\">\n",
       "      <th>Epoch</th>\n",
       "      <th>Training Loss</th>\n",
       "      <th>Validation Loss</th>\n",
       "      <th>Accuracy</th>\n",
       "      <th>F1</th>\n",
       "    </tr>\n",
       "  </thead>\n",
       "  <tbody>\n",
       "    <tr>\n",
       "      <td>1</td>\n",
       "      <td>0.334900</td>\n",
       "      <td>0.330533</td>\n",
       "      <td>0.879249</td>\n",
       "      <td>0.877794</td>\n",
       "    </tr>\n",
       "    <tr>\n",
       "      <td>2</td>\n",
       "      <td>0.235700</td>\n",
       "      <td>0.421130</td>\n",
       "      <td>0.888263</td>\n",
       "      <td>0.888043</td>\n",
       "    </tr>\n",
       "    <tr>\n",
       "      <td>3</td>\n",
       "      <td>0.106200</td>\n",
       "      <td>0.554432</td>\n",
       "      <td>0.892582</td>\n",
       "      <td>0.891780</td>\n",
       "    </tr>\n",
       "  </tbody>\n",
       "</table><p>"
      ],
      "text/plain": [
       "<IPython.core.display.HTML object>"
      ]
     },
     "metadata": {},
     "output_type": "display_data"
    },
    {
     "name": "stderr",
     "output_type": "stream",
     "text": [
      "Downloading builder script: 100%|██████████| 4.20k/4.20k [00:00<00:00, 16.1MB/s]\n",
      "Downloading builder script: 100%|██████████| 6.79k/6.79k [00:00<00:00, 11.2MB/s]\n"
     ]
    },
    {
     "data": {
      "text/plain": [
       "TrainOutput(global_step=15978, training_loss=0.2458274773026993, metrics={'train_runtime': 1948.0798, 'train_samples_per_second': 65.609, 'train_steps_per_second': 8.202, 'total_flos': 8132289512465664.0, 'train_loss': 0.2458274773026993, 'epoch': 3.0})"
      ]
     },
     "execution_count": 12,
     "metadata": {},
     "output_type": "execute_result"
    }
   ],
   "source": [
    "trainer.train()"
   ]
  },
  {
   "cell_type": "markdown",
   "metadata": {},
   "source": [
    "## Evaluation"
   ]
  },
  {
   "cell_type": "code",
   "execution_count": 13,
   "metadata": {
    "execution": {
     "iopub.execute_input": "2025-04-13T15:18:38.156063Z",
     "iopub.status.busy": "2025-04-13T15:18:38.155806Z",
     "iopub.status.idle": "2025-04-13T15:19:01.376262Z",
     "shell.execute_reply": "2025-04-13T15:19:01.375552Z",
     "shell.execute_reply.started": "2025-04-13T15:18:38.156046Z"
    },
    "trusted": true
   },
   "outputs": [
    {
     "data": {
      "text/html": [],
      "text/plain": [
       "<IPython.core.display.HTML object>"
      ]
     },
     "metadata": {},
     "output_type": "display_data"
    },
    {
     "name": "stdout",
     "output_type": "stream",
     "text": [
      "              precision    recall  f1-score   support\n",
      "\n",
      "           0      0.894     0.926     0.910      3348\n",
      "           1      0.867     0.815     0.840      1978\n",
      "\n",
      "    accuracy                          0.885      5326\n",
      "   macro avg      0.881     0.870     0.875      5326\n",
      "weighted avg      0.884     0.885     0.884      5326\n",
      "\n"
     ]
    }
   ],
   "source": [
    "from sklearn.metrics import classification_report\n",
    "\n",
    "y_pred = trainer.predict(tokenized_datasets['test']).predictions\n",
    "y_pred = np.argmax(y_pred, axis=-1)\n",
    "\n",
    "y_true = tokenized_datasets[\"test\"][\"labels\"]\n",
    "y_true = np.array(y_true)\n",
    "\n",
    "print(classification_report(y_true, y_pred, digits=3))"
   ]
  }
 ],
 "metadata": {
  "kaggle": {
   "accelerator": "nvidiaTeslaT4",
   "dataSources": [
    {
     "datasetId": 7121587,
     "sourceId": 11388725,
     "sourceType": "datasetVersion"
    }
   ],
   "dockerImageVersionId": 31012,
   "isGpuEnabled": true,
   "isInternetEnabled": true,
   "language": "python",
   "sourceType": "notebook"
  },
  "kernelspec": {
   "display_name": "Python 3",
   "language": "python",
   "name": "python3"
  },
  "language_info": {
   "codemirror_mode": {
    "name": "ipython",
    "version": 3
   },
   "file_extension": ".py",
   "mimetype": "text/x-python",
   "name": "python",
   "nbconvert_exporter": "python",
   "pygments_lexer": "ipython3",
   "version": "3.13.2"
  }
 },
 "nbformat": 4,
 "nbformat_minor": 4
}
