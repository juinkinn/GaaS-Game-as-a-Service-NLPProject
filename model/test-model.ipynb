{
 "cells": [
  {
   "cell_type": "code",
   "execution_count": 1,
   "id": "0f44406c",
   "metadata": {},
   "outputs": [],
   "source": [
    "from transformers import AutoTokenizer, AutoModelForSequenceClassification\n",
    "import torch\n",
    "import numpy as np\n",
    "from huggingface_hub import login, notebook_login\n",
    "import os\n",
    "from dotenv import load_dotenv"
   ]
  },
  {
   "cell_type": "code",
   "execution_count": 2,
   "id": "221d8fe8",
   "metadata": {},
   "outputs": [],
   "source": [
    "load_dotenv()\n",
    "login(token=os.getenv(\"HUGGINGFACE_TOKEN\"))"
   ]
  },
  {
   "cell_type": "code",
   "execution_count": 3,
   "id": "7e209e05",
   "metadata": {},
   "outputs": [
    {
     "name": "stdout",
     "output_type": "stream",
     "text": [
      "Review 1: 10/10, my PC begged for mercy within 5 minutes. This game is the ultimate hardware stress test.\n",
      "Predicted class: POSITIVE\n",
      "Probabilities: [0.00929471 0.9907053 ]\n",
      "\n",
      "Review 2: Love the immersive experience of staring at a loading screen for 20 minutes just to get yeeted from the server. Devs, you’ve outdone yourselves.\n",
      "Predicted class: NEGATIVE\n",
      "Probabilities: [0.76630455 0.23369542]\n",
      "\n",
      "Review 3: The bugs are so next-level, I’m pretty sure this game is secretly a sci-fi horror sim. Where’s my Oscar for surviving this mess?\n",
      "Predicted class: NEGATIVE\n",
      "Probabilities: [0.99453074 0.00546924]\n",
      "\n",
      "Review 4: Graphics so retro, my eyes are still adjusting to the 90s CRT monitor vibes. Truly a masterpiece of aesthetic suffering.\n",
      "Predicted class: POSITIVE\n",
      "Probabilities: [0.01362654 0.9863734 ]\n",
      "\n",
      "Review 5: Didn’t realize ‘pay-to-win’ was a whole genre until I dropped $50 and still got owned. Take my money, I guess?\n",
      "Predicted class: NEGATIVE\n",
      "Probabilities: [0.990266   0.00973399]\n",
      "\n",
      "Review 6: The storyline is so gripping, I fell asleep trying to find it. 10/10 for accidental ASMR.\n",
      "Predicted class: POSITIVE\n",
      "Probabilities: [0.00239635 0.9976037 ]\n",
      "\n",
      "Review 7: Perfect game for anyone who loves slamming their keyboard in frustration. Next-level rage bait, devs. Respect.\n",
      "Predicted class: NEGATIVE\n",
      "Probabilities: [0.98942614 0.01057388]\n",
      "\n",
      "Review 8: That 5-second tutorial was chef’s kiss. I’m still figuring out how to move, but who needs guidance, right?\n",
      "Predicted class: POSITIVE\n",
      "Probabilities: [8.9836592e-04 9.9910164e-01]\n",
      "\n",
      "Review 9: The lag is so consistent, it’s basically a core mechanic. I’m speedrunning disconnects now.\n",
      "Predicted class: POSITIVE\n",
      "Probabilities: [0.00631496 0.99368507]\n",
      "\n",
      "Review 10: I’d ask for a refund, but I’m too busy uninstalling this work of art. Devs, you’ve earned my eternal respect and my Alt+F4.\n",
      "Predicted class: NEGATIVE\n",
      "Probabilities: [0.9980794 0.0019206]\n",
      "\n"
     ]
    }
   ],
   "source": [
    "checkpoint = \"GaaS-Team/DistilBERT-finetuned-GaaS\"  # Example checkpoint for sentiment analysis\n",
    "tokenizer = AutoTokenizer.from_pretrained(checkpoint)\n",
    "model = AutoModelForSequenceClassification.from_pretrained(checkpoint)\n",
    "\n",
    "raw_text = [\n",
    "    \"10/10, my PC begged for mercy within 5 minutes. This game is the ultimate hardware stress test.\",\n",
    "    \"Love the immersive experience of staring at a loading screen for 20 minutes just to get yeeted from the server. Devs, you’ve outdone yourselves.\",\n",
    "    \"The bugs are so next-level, I’m pretty sure this game is secretly a sci-fi horror sim. Where’s my Oscar for surviving this mess?\",\n",
    "    \"Graphics so retro, my eyes are still adjusting to the 90s CRT monitor vibes. Truly a masterpiece of aesthetic suffering.\",\n",
    "    \"Didn’t realize ‘pay-to-win’ was a whole genre until I dropped $50 and still got owned. Take my money, I guess?\",\n",
    "    \"The storyline is so gripping, I fell asleep trying to find it. 10/10 for accidental ASMR.\",\n",
    "    \"Perfect game for anyone who loves slamming their keyboard in frustration. Next-level rage bait, devs. Respect.\",\n",
    "    \"That 5-second tutorial was chef’s kiss. I’m still figuring out how to move, but who needs guidance, right?\",\n",
    "    \"The lag is so consistent, it’s basically a core mechanic. I’m speedrunning disconnects now.\",\n",
    "    \"I’d ask for a refund, but I’m too busy uninstalling this work of art. Devs, you’ve earned my eternal respect and my Alt+F4.\"\n",
    "]\n",
    "\n",
    "inputs = tokenizer(raw_text, padding=True, truncation=True, return_tensors=\"pt\")\n",
    "\n",
    "# Run inference\n",
    "with torch.no_grad():\n",
    "    logits = model(**inputs).logits\n",
    "\n",
    "# Get predicted classes\n",
    "predicted_class_ids = logits.argmax(dim=-1).tolist()\n",
    "predicted_classes = [model.config.id2label[id] for id in predicted_class_ids]\n",
    "\n",
    "# Get probabilities\n",
    "probs = torch.nn.functional.softmax(logits, dim=-1).numpy()\n",
    "\n",
    "# Print results for each review\n",
    "for i, (text, pred_class, prob) in enumerate(zip(raw_text, predicted_classes, probs)):\n",
    "    print(f\"Review {i+1}: {text}\")\n",
    "    print(f\"Predicted class: {pred_class}\")\n",
    "    print(f\"Probabilities: {prob}\")\n",
    "    print()"
   ]
  }
 ],
 "metadata": {
  "kernelspec": {
   "display_name": "Python 3",
   "language": "python",
   "name": "python3"
  },
  "language_info": {
   "codemirror_mode": {
    "name": "ipython",
    "version": 3
   },
   "file_extension": ".py",
   "mimetype": "text/x-python",
   "name": "python",
   "nbconvert_exporter": "python",
   "pygments_lexer": "ipython3",
   "version": "3.13.2"
  }
 },
 "nbformat": 4,
 "nbformat_minor": 5
}
