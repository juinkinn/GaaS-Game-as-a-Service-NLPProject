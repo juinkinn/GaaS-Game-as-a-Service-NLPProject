{
 "cells": [
  {
   "cell_type": "code",
   "execution_count": 10,
   "metadata": {
    "execution": {
     "iopub.execute_input": "2025-04-22T03:27:42.841431Z",
     "iopub.status.busy": "2025-04-22T03:27:42.841200Z",
     "iopub.status.idle": "2025-04-22T03:28:14.388583Z",
     "shell.execute_reply": "2025-04-22T03:28:14.387797Z",
     "shell.execute_reply.started": "2025-04-22T03:27:42.841399Z"
    },
    "trusted": true
   },
   "outputs": [],
   "source": [
    "import pandas as pd\n",
    "from sklearn.metrics import classification_report\n",
    "from transformers import DistilBertTokenizerFast, DistilBertForSequenceClassification, AutoTokenizer, AutoModelForSequenceClassification\n",
    "from transformers import pipeline\n",
    "from huggingface_hub import login\n",
    "import torch\n",
    "from nltk.sentiment.vader import SentimentIntensityAnalyzer\n",
    "import nltk\n",
    "import os\n",
    "from dotenv import load_dotenv"
   ]
  },
  {
   "cell_type": "code",
   "execution_count": 11,
   "metadata": {},
   "outputs": [],
   "source": [
    "load_dotenv()\n",
    "login(token=os.getenv(\"HUGGINGFACE_TOKEN\"))"
   ]
  },
  {
   "cell_type": "code",
   "execution_count": 12,
   "metadata": {
    "_cell_guid": "b1076dfc-b9ad-4769-8c92-a6c4dae69d19",
    "_uuid": "8f2839f25d086af736a60e9eeb907d3b93b6e0e5",
    "execution": {
     "iopub.execute_input": "2025-04-22T03:29:49.968411Z",
     "iopub.status.busy": "2025-04-22T03:29:49.967448Z",
     "iopub.status.idle": "2025-04-22T03:30:22.449265Z",
     "shell.execute_reply": "2025-04-22T03:30:22.448615Z",
     "shell.execute_reply.started": "2025-04-22T03:29:49.968378Z"
    },
    "trusted": true
   },
   "outputs": [
    {
     "name": "stderr",
     "output_type": "stream",
     "text": [
      "[nltk_data] Downloading package vader_lexicon to\n",
      "[nltk_data]     C:\\Users\\ADMIN\\AppData\\Roaming\\nltk_data...\n",
      "[nltk_data]   Package vader_lexicon is already up-to-date!\n",
      "Device set to use cuda:0\n"
     ]
    },
    {
     "name": "stdout",
     "output_type": "stream",
     "text": [
      "Distilbert\n",
      "              precision    recall  f1-score   support\n",
      "\n",
      "           0     0.7747    0.7703    0.7725      3348\n",
      "           1     0.6149    0.6208    0.6179      1978\n",
      "\n",
      "    accuracy                         0.7148      5326\n",
      "   macro avg     0.6948    0.6956    0.6952      5326\n",
      "weighted avg     0.7154    0.7148    0.7151      5326\n",
      "\n"
     ]
    },
    {
     "name": "stderr",
     "output_type": "stream",
     "text": [
      "Device set to use cuda:0\n"
     ]
    },
    {
     "name": "stdout",
     "output_type": "stream",
     "text": [
      "Fine-tuned Distilbert\n",
      "              precision    recall  f1-score   support\n",
      "\n",
      "           0     0.8944    0.9259    0.9099      3348\n",
      "           1     0.8667    0.8150    0.8400      1978\n",
      "\n",
      "    accuracy                         0.8847      5326\n",
      "   macro avg     0.8805    0.8704    0.8750      5326\n",
      "weighted avg     0.8841    0.8847    0.8839      5326\n",
      "\n",
      "Vader\n",
      "              precision    recall  f1-score   support\n",
      "\n",
      "           0     0.9040    0.4050    0.5594      3348\n",
      "           1     0.4794    0.9272    0.6320      1978\n",
      "\n",
      "    accuracy                         0.5989      5326\n",
      "   macro avg     0.6917    0.6661    0.5957      5326\n",
      "weighted avg     0.7463    0.5989    0.5864      5326\n",
      "\n"
     ]
    }
   ],
   "source": [
    "# Download VADER lexicon\n",
    "nltk.download(\"vader_lexicon\")\n",
    "\n",
    "# Load CSV\n",
    "path = '../data/'\n",
    "df = pd.read_csv(path + \"test.csv\")\n",
    "texts = df[\"user_review\"].astype(str).tolist()\n",
    "labels = df[\"user_suggestion\"].tolist()\n",
    "\n",
    "### 1. DISTILBERT Evaluation\n",
    "model_name = \"distilbert-base-uncased-finetuned-sst-2-english\"\n",
    "tokenizer = DistilBertTokenizerFast.from_pretrained(model_name)\n",
    "model = DistilBertForSequenceClassification.from_pretrained(model_name)\n",
    "classifier = pipeline(\"sentiment-analysis\", model=model, tokenizer=tokenizer, device=0)  # Use GPU if available\n",
    "\n",
    "predictions = classifier(texts, truncation=True, padding=True)\n",
    "label_map = {\"NEGATIVE\": 0, \"POSITIVE\": 1}\n",
    "bert_preds = [label_map[p[\"label\"]] for p in predictions]\n",
    "\n",
    "print(\"Distilbert\")\n",
    "print(classification_report(labels, bert_preds, digits=4))\n",
    "\n",
    "### 2. Fine-tuned DistilBERT Evaluation\n",
    "checkpoint = \"GaaS-Team/DistilBERT-finetuned-GaaS\"\n",
    "tokenizer = AutoTokenizer.from_pretrained(checkpoint)\n",
    "model = AutoModelForSequenceClassification.from_pretrained(checkpoint)\n",
    "ft_classifier = pipeline(\"sentiment-analysis\", model=model, tokenizer=tokenizer, device=0)  # Use GPU if available\n",
    "\n",
    "ft_predictions = ft_classifier(texts, truncation=True, padding=True)\n",
    "ft_bert_preds = [label_map[ftp[\"label\"]] for ftp in ft_predictions]\n",
    "\n",
    "print(\"Fine-tuned Distilbert\")\n",
    "print(classification_report(labels, ft_bert_preds, digits=4))\n",
    "\n",
    "### 3. VADER Evaluation\n",
    "vader = SentimentIntensityAnalyzer()\n",
    "\n",
    "def vader_to_label(text):\n",
    "    score = vader.polarity_scores(text)[\"compound\"]\n",
    "    return 1 if score >= 0 else 0  # 1 = positive, 0 = negative\n",
    "\n",
    "vader_preds = [vader_to_label(text) for text in texts]\n",
    "\n",
    "print(\"Vader\")\n",
    "print(classification_report(labels, vader_preds, digits=4))"
   ]
  }
 ],
 "metadata": {
  "kaggle": {
   "accelerator": "nvidiaTeslaT4",
   "dataSources": [
    {
     "datasetId": 7215910,
     "sourceId": 11508332,
     "sourceType": "datasetVersion"
    }
   ],
   "dockerImageVersionId": 31011,
   "isGpuEnabled": true,
   "isInternetEnabled": true,
   "language": "python",
   "sourceType": "notebook"
  },
  "kernelspec": {
   "display_name": "Python 3",
   "language": "python",
   "name": "python3"
  },
  "language_info": {
   "codemirror_mode": {
    "name": "ipython",
    "version": 3
   },
   "file_extension": ".py",
   "mimetype": "text/x-python",
   "name": "python",
   "nbconvert_exporter": "python",
   "pygments_lexer": "ipython3",
   "version": "3.13.2"
  }
 },
 "nbformat": 4,
 "nbformat_minor": 4
}
