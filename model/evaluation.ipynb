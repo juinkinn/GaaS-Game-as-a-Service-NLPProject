{
 "cells": [
  {
   "cell_type": "code",
<<<<<<< HEAD
   "execution_count": 1,
=======
   "execution_count": 10,
>>>>>>> df6a91e9be758954f9299eb4d3015b703e9a65fd
   "metadata": {
    "execution": {
     "iopub.execute_input": "2025-04-22T03:27:42.841431Z",
     "iopub.status.busy": "2025-04-22T03:27:42.841200Z",
     "iopub.status.idle": "2025-04-22T03:28:14.388583Z",
     "shell.execute_reply": "2025-04-22T03:28:14.387797Z",
     "shell.execute_reply.started": "2025-04-22T03:27:42.841399Z"
    },
    "trusted": true
   },
<<<<<<< HEAD
   "outputs": [
    {
     "name": "stderr",
     "output_type": "stream",
     "text": [
      "2025-04-22 03:28:01.252322: E external/local_xla/xla/stream_executor/cuda/cuda_fft.cc:477] Unable to register cuFFT factory: Attempting to register factory for plugin cuFFT when one has already been registered\n",
      "WARNING: All log messages before absl::InitializeLog() is called are written to STDERR\n",
      "E0000 00:00:1745292481.492493      31 cuda_dnn.cc:8310] Unable to register cuDNN factory: Attempting to register factory for plugin cuDNN when one has already been registered\n",
      "E0000 00:00:1745292481.563026      31 cuda_blas.cc:1418] Unable to register cuBLAS factory: Attempting to register factory for plugin cuBLAS when one has already been registered\n"
     ]
    }
   ],
   "source": [
    "import pandas as pd\n",
    "from sklearn.metrics import classification_report\n",
    "from transformers import DistilBertTokenizerFast, DistilBertForSequenceClassification\n",
    "from transformers import pipeline\n",
    "import torch\n",
    "from nltk.sentiment.vader import SentimentIntensityAnalyzer\n",
    "import nltk"
=======
   "outputs": [],
   "source": [
    "import pandas as pd\n",
    "from sklearn.metrics import classification_report\n",
    "from transformers import DistilBertTokenizerFast, DistilBertForSequenceClassification, AutoTokenizer, AutoModelForSequenceClassification\n",
    "from transformers import pipeline\n",
    "from huggingface_hub import login\n",
    "import torch\n",
    "from nltk.sentiment.vader import SentimentIntensityAnalyzer\n",
    "import nltk\n",
    "import os\n",
    "from dotenv import load_dotenv"
>>>>>>> df6a91e9be758954f9299eb4d3015b703e9a65fd
   ]
  },
  {
   "cell_type": "code",
<<<<<<< HEAD
   "execution_count": 3,
=======
   "execution_count": 11,
   "metadata": {},
   "outputs": [],
   "source": [
    "load_dotenv()\n",
    "login(token=os.getenv(\"HUGGINGFACE_TOKEN\"))"
   ]
  },
  {
   "cell_type": "code",
   "execution_count": 12,
>>>>>>> df6a91e9be758954f9299eb4d3015b703e9a65fd
   "metadata": {
    "_cell_guid": "b1076dfc-b9ad-4769-8c92-a6c4dae69d19",
    "_uuid": "8f2839f25d086af736a60e9eeb907d3b93b6e0e5",
    "execution": {
     "iopub.execute_input": "2025-04-22T03:29:49.968411Z",
     "iopub.status.busy": "2025-04-22T03:29:49.967448Z",
     "iopub.status.idle": "2025-04-22T03:30:22.449265Z",
     "shell.execute_reply": "2025-04-22T03:30:22.448615Z",
     "shell.execute_reply.started": "2025-04-22T03:29:49.968378Z"
    },
    "trusted": true
   },
   "outputs": [
    {
     "name": "stderr",
     "output_type": "stream",
     "text": [
      "[nltk_data] Downloading package vader_lexicon to\n",
<<<<<<< HEAD
      "[nltk_data]     /usr/share/nltk_data...\n",
      "[nltk_data]   Package vader_lexicon is already up-to-date!\n"
     ]
    },
    {
     "data": {
      "application/vnd.jupyter.widget-view+json": {
       "model_id": "aec34f222ffc4a74874fddea4ac0bc5d",
       "version_major": 2,
       "version_minor": 0
      },
      "text/plain": [
       "tokenizer_config.json:   0%|          | 0.00/48.0 [00:00<?, ?B/s]"
      ]
     },
     "metadata": {},
     "output_type": "display_data"
    },
    {
     "data": {
      "application/vnd.jupyter.widget-view+json": {
       "model_id": "a02e27f0578541f99057e47c8e031c84",
       "version_major": 2,
       "version_minor": 0
      },
      "text/plain": [
       "vocab.txt:   0%|          | 0.00/232k [00:00<?, ?B/s]"
      ]
     },
     "metadata": {},
     "output_type": "display_data"
    },
    {
     "data": {
      "application/vnd.jupyter.widget-view+json": {
       "model_id": "8eb086443d6c4d8986a711efbf4231e0",
       "version_major": 2,
       "version_minor": 0
      },
      "text/plain": [
       "config.json:   0%|          | 0.00/629 [00:00<?, ?B/s]"
      ]
     },
     "metadata": {},
     "output_type": "display_data"
    },
    {
     "name": "stderr",
     "output_type": "stream",
     "text": [
      "Xet Storage is enabled for this repo, but the 'hf_xet' package is not installed. Falling back to regular HTTP download. For better performance, install the package with: `pip install huggingface_hub[hf_xet]` or `pip install hf_xet`\n"
     ]
    },
    {
     "data": {
      "application/vnd.jupyter.widget-view+json": {
       "model_id": "d357ca150e2a4da196f4a87416059d54",
       "version_major": 2,
       "version_minor": 0
      },
      "text/plain": [
       "model.safetensors:   0%|          | 0.00/268M [00:00<?, ?B/s]"
      ]
     },
     "metadata": {},
     "output_type": "display_data"
    },
    {
     "name": "stderr",
     "output_type": "stream",
     "text": [
=======
      "[nltk_data]     C:\\Users\\ADMIN\\AppData\\Roaming\\nltk_data...\n",
      "[nltk_data]   Package vader_lexicon is already up-to-date!\n",
>>>>>>> df6a91e9be758954f9299eb4d3015b703e9a65fd
      "Device set to use cuda:0\n"
     ]
    },
    {
     "name": "stdout",
     "output_type": "stream",
     "text": [
      "Distilbert\n",
      "              precision    recall  f1-score   support\n",
      "\n",
      "           0     0.7747    0.7703    0.7725      3348\n",
      "           1     0.6149    0.6208    0.6179      1978\n",
      "\n",
      "    accuracy                         0.7148      5326\n",
      "   macro avg     0.6948    0.6956    0.6952      5326\n",
      "weighted avg     0.7154    0.7148    0.7151      5326\n",
<<<<<<< HEAD
=======
      "\n"
     ]
    },
    {
     "name": "stderr",
     "output_type": "stream",
     "text": [
      "Device set to use cuda:0\n"
     ]
    },
    {
     "name": "stdout",
     "output_type": "stream",
     "text": [
      "Fine-tuned Distilbert\n",
      "              precision    recall  f1-score   support\n",
      "\n",
      "           0     0.8944    0.9259    0.9099      3348\n",
      "           1     0.8667    0.8150    0.8400      1978\n",
      "\n",
      "    accuracy                         0.8847      5326\n",
      "   macro avg     0.8805    0.8704    0.8750      5326\n",
      "weighted avg     0.8841    0.8847    0.8839      5326\n",
>>>>>>> df6a91e9be758954f9299eb4d3015b703e9a65fd
      "\n",
      "Vader\n",
      "              precision    recall  f1-score   support\n",
      "\n",
      "           0     0.9040    0.4050    0.5594      3348\n",
      "           1     0.4794    0.9272    0.6320      1978\n",
      "\n",
      "    accuracy                         0.5989      5326\n",
      "   macro avg     0.6917    0.6661    0.5957      5326\n",
      "weighted avg     0.7463    0.5989    0.5864      5326\n",
      "\n"
     ]
    }
   ],
   "source": [
    "# Download VADER lexicon\n",
    "nltk.download(\"vader_lexicon\")\n",
    "\n",
    "# Load CSV\n",
<<<<<<< HEAD
    "df = pd.read_csv(\"/kaggle/input/testcsv/test.csv\")\n",
=======
    "path = '../data/'\n",
    "df = pd.read_csv(path + \"test.csv\")\n",
>>>>>>> df6a91e9be758954f9299eb4d3015b703e9a65fd
    "texts = df[\"user_review\"].astype(str).tolist()\n",
    "labels = df[\"user_suggestion\"].tolist()\n",
    "\n",
    "### 1. DISTILBERT Evaluation\n",
    "model_name = \"distilbert-base-uncased-finetuned-sst-2-english\"\n",
    "tokenizer = DistilBertTokenizerFast.from_pretrained(model_name)\n",
    "model = DistilBertForSequenceClassification.from_pretrained(model_name)\n",
    "classifier = pipeline(\"sentiment-analysis\", model=model, tokenizer=tokenizer, device=0)  # Use GPU if available\n",
    "\n",
    "predictions = classifier(texts, truncation=True, padding=True)\n",
    "label_map = {\"NEGATIVE\": 0, \"POSITIVE\": 1}\n",
    "bert_preds = [label_map[p[\"label\"]] for p in predictions]\n",
    "\n",
    "print(\"Distilbert\")\n",
    "print(classification_report(labels, bert_preds, digits=4))\n",
    "\n",
<<<<<<< HEAD
    "### 2. VADER Evaluation\n",
=======
    "### 2. Fine-tuned DistilBERT Evaluation\n",
    "checkpoint = \"GaaS-Team/DistilBERT-finetuned-GaaS\"\n",
    "tokenizer = AutoTokenizer.from_pretrained(checkpoint)\n",
    "model = AutoModelForSequenceClassification.from_pretrained(checkpoint)\n",
    "ft_classifier = pipeline(\"sentiment-analysis\", model=model, tokenizer=tokenizer, device=0)  # Use GPU if available\n",
    "\n",
    "ft_predictions = ft_classifier(texts, truncation=True, padding=True)\n",
    "ft_bert_preds = [label_map[ftp[\"label\"]] for ftp in ft_predictions]\n",
    "\n",
    "print(\"Fine-tuned Distilbert\")\n",
    "print(classification_report(labels, ft_bert_preds, digits=4))\n",
    "\n",
    "### 3. VADER Evaluation\n",
>>>>>>> df6a91e9be758954f9299eb4d3015b703e9a65fd
    "vader = SentimentIntensityAnalyzer()\n",
    "\n",
    "def vader_to_label(text):\n",
    "    score = vader.polarity_scores(text)[\"compound\"]\n",
    "    return 1 if score >= 0 else 0  # 1 = positive, 0 = negative\n",
    "\n",
    "vader_preds = [vader_to_label(text) for text in texts]\n",
    "\n",
    "print(\"Vader\")\n",
    "print(classification_report(labels, vader_preds, digits=4))"
   ]
  }
 ],
 "metadata": {
  "kaggle": {
   "accelerator": "nvidiaTeslaT4",
   "dataSources": [
    {
     "datasetId": 7215910,
     "sourceId": 11508332,
     "sourceType": "datasetVersion"
    }
   ],
   "dockerImageVersionId": 31011,
   "isGpuEnabled": true,
   "isInternetEnabled": true,
   "language": "python",
   "sourceType": "notebook"
  },
  "kernelspec": {
   "display_name": "Python 3",
   "language": "python",
   "name": "python3"
  },
  "language_info": {
   "codemirror_mode": {
    "name": "ipython",
    "version": 3
   },
   "file_extension": ".py",
   "mimetype": "text/x-python",
   "name": "python",
   "nbconvert_exporter": "python",
   "pygments_lexer": "ipython3",
<<<<<<< HEAD
   "version": "3.11.9"
=======
   "version": "3.13.2"
>>>>>>> df6a91e9be758954f9299eb4d3015b703e9a65fd
  }
 },
 "nbformat": 4,
 "nbformat_minor": 4
}
