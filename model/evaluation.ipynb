{
 "cells": [
  {
   "cell_type": "code",
   "execution_count": 11,
   "metadata": {
    "execution": {
     "iopub.execute_input": "2025-04-11T11:52:56.924841Z",
     "iopub.status.busy": "2025-04-11T11:52:56.924130Z",
     "iopub.status.idle": "2025-04-11T11:52:56.928658Z",
     "shell.execute_reply": "2025-04-11T11:52:56.927851Z",
     "shell.execute_reply.started": "2025-04-11T11:52:56.924815Z"
    },
    "trusted": true
   },
   "outputs": [],
   "source": [
    "import pandas as pd\n",
    "from sklearn.metrics import classification_report\n",
    "from transformers import DistilBertTokenizerFast, DistilBertForSequenceClassification\n",
    "from transformers import pipeline\n",
    "import torch\n",
    "from nltk.sentiment.vader import SentimentIntensityAnalyzer\n",
    "import nltk"
   ]
  },
  {
   "cell_type": "code",
   "execution_count": 12,
   "metadata": {
    "_cell_guid": "b1076dfc-b9ad-4769-8c92-a6c4dae69d19",
    "_uuid": "8f2839f25d086af736a60e9eeb907d3b93b6e0e5",
    "execution": {
     "iopub.execute_input": "2025-04-11T11:52:56.930587Z",
     "iopub.status.busy": "2025-04-11T11:52:56.930059Z",
     "iopub.status.idle": "2025-04-11T11:53:16.159618Z",
     "shell.execute_reply": "2025-04-11T11:53:16.158860Z",
     "shell.execute_reply.started": "2025-04-11T11:52:56.930569Z"
    },
    "trusted": true
   },
   "outputs": [
    {
     "name": "stderr",
     "output_type": "stream",
     "text": [
      "[nltk_data] Downloading package vader_lexicon to\n",
      "[nltk_data]     /usr/share/nltk_data...\n",
      "[nltk_data]   Package vader_lexicon is already up-to-date!\n",
      "Device set to use cuda:0\n"
     ]
    },
    {
     "name": "stdout",
     "output_type": "stream",
     "text": [
      "Distilbert\n",
      "              precision    recall  f1-score   support\n",
      "\n",
      "           0     0.5676    0.9253    0.7036      1084\n",
      "           1     0.9268    0.5729    0.7081      1789\n",
      "\n",
      "    accuracy                         0.7059      2873\n",
      "   macro avg     0.7472    0.7491    0.7059      2873\n",
      "weighted avg     0.7913    0.7059    0.7064      2873\n",
      "\n",
      "Vader\n",
      "              precision    recall  f1-score   support\n",
      "\n",
      "           0     0.7650    0.5406    0.6335      1084\n",
      "           1     0.7636    0.8994    0.8260      1789\n",
      "\n",
      "    accuracy                         0.7640      2873\n",
      "   macro avg     0.7643    0.7200    0.7297      2873\n",
      "weighted avg     0.7642    0.7640    0.7534      2873\n",
      "\n"
     ]
    }
   ],
   "source": [
    "# Download VADER lexicon\n",
    "nltk.download(\"vader_lexicon\")\n",
    "\n",
    "# Load CSV\n",
    "df = pd.read_csv(\"/kaggle/input/test-csv/test.csv\")\n",
    "texts = df[\"user_review\"].astype(str).tolist()\n",
    "labels = df[\"user_suggestion\"].tolist()\n",
    "\n",
    "### 1. DISTILBERT Evaluation\n",
    "model_name = \"distilbert-base-uncased-finetuned-sst-2-english\"\n",
    "tokenizer = DistilBertTokenizerFast.from_pretrained(model_name)\n",
    "model = DistilBertForSequenceClassification.from_pretrained(model_name)\n",
    "classifier = pipeline(\"sentiment-analysis\", model=model, tokenizer=tokenizer, device=0)  # Use GPU if available\n",
    "\n",
    "predictions = classifier(texts, truncation=True, padding=True)\n",
    "label_map = {\"NEGATIVE\": 0, \"POSITIVE\": 1}\n",
    "bert_preds = [label_map[p[\"label\"]] for p in predictions]\n",
    "\n",
    "print(\"Distilbert\")\n",
    "print(classification_report(labels, bert_preds, digits=4))\n",
    "\n",
    "### 2. VADER Evaluation\n",
    "vader = SentimentIntensityAnalyzer()\n",
    "\n",
    "def vader_to_label(text):\n",
    "    score = vader.polarity_scores(text)[\"compound\"]\n",
    "    return 1 if score >= 0 else 0  # 1 = positive, 0 = negative\n",
    "\n",
    "vader_preds = [vader_to_label(text) for text in texts]\n",
    "\n",
    "print(\"Vader\")\n",
    "print(classification_report(labels, vader_preds, digits=4))"
   ]
  }
 ],
 "metadata": {
  "kaggle": {
   "accelerator": "nvidiaTeslaT4",
   "dataSources": [
    {
     "datasetId": 7114871,
     "sourceId": 11366531,
     "sourceType": "datasetVersion"
    }
   ],
   "dockerImageVersionId": 31011,
   "isGpuEnabled": true,
   "isInternetEnabled": true,
   "language": "python",
   "sourceType": "notebook"
  },
  "kernelspec": {
   "display_name": "Python 3",
   "language": "python",
   "name": "python3"
  },
  "language_info": {
   "codemirror_mode": {
    "name": "ipython",
    "version": 3
   },
   "file_extension": ".py",
   "mimetype": "text/x-python",
   "name": "python",
   "nbconvert_exporter": "python",
   "pygments_lexer": "ipython3",
   "version": "3.11.9"
  }
 },
 "nbformat": 4,
 "nbformat_minor": 4
}
