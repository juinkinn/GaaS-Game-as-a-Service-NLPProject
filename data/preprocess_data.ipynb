{
 "cells": [
  {
   "cell_type": "markdown",
   "id": "d9f59632",
   "metadata": {},
   "source": [
    "# Preprocess data"
   ]
  },
  {
   "cell_type": "code",
   "execution_count": 231,
   "id": "53d2564d",
   "metadata": {},
   "outputs": [],
   "source": [
    "import pandas as pd\n",
    "import nltk\n",
    "from nltk.corpus import stopwords\n",
    "import re\n",
    "from sklearn.model_selection import train_test_split"
   ]
  },
  {
   "cell_type": "markdown",
   "id": "2da3a3d6",
   "metadata": {},
   "source": [
    "## 1. Steam review"
   ]
  },
  {
   "cell_type": "code",
   "execution_count": 232,
   "id": "cd4119db",
   "metadata": {},
   "outputs": [],
   "source": [
    "df_steam = pd.read_csv('raw_data/train.csv')"
   ]
  },
  {
   "cell_type": "code",
   "execution_count": 233,
   "id": "ea3d91df",
   "metadata": {},
   "outputs": [
    {
     "data": {
      "text/html": [
       "<div>\n",
       "<style scoped>\n",
       "    .dataframe tbody tr th:only-of-type {\n",
       "        vertical-align: middle;\n",
       "    }\n",
       "\n",
       "    .dataframe tbody tr th {\n",
       "        vertical-align: top;\n",
       "    }\n",
       "\n",
       "    .dataframe thead th {\n",
       "        text-align: right;\n",
       "    }\n",
       "</style>\n",
       "<table border=\"1\" class=\"dataframe\">\n",
       "  <thead>\n",
       "    <tr style=\"text-align: right;\">\n",
       "      <th></th>\n",
       "      <th>review_id</th>\n",
       "      <th>title</th>\n",
       "      <th>year</th>\n",
       "      <th>user_review</th>\n",
       "      <th>user_suggestion</th>\n",
       "    </tr>\n",
       "  </thead>\n",
       "  <tbody>\n",
       "    <tr>\n",
       "      <th>0</th>\n",
       "      <td>1</td>\n",
       "      <td>Spooky's Jump Scare Mansion</td>\n",
       "      <td>2016.0</td>\n",
       "      <td>I'm scared and hearing creepy voices.  So I'll...</td>\n",
       "      <td>1</td>\n",
       "    </tr>\n",
       "    <tr>\n",
       "      <th>1</th>\n",
       "      <td>2</td>\n",
       "      <td>Spooky's Jump Scare Mansion</td>\n",
       "      <td>2016.0</td>\n",
       "      <td>Best game, more better than Sam Pepper's YouTu...</td>\n",
       "      <td>1</td>\n",
       "    </tr>\n",
       "    <tr>\n",
       "      <th>2</th>\n",
       "      <td>3</td>\n",
       "      <td>Spooky's Jump Scare Mansion</td>\n",
       "      <td>2016.0</td>\n",
       "      <td>A littly iffy on the controls, but once you kn...</td>\n",
       "      <td>1</td>\n",
       "    </tr>\n",
       "    <tr>\n",
       "      <th>3</th>\n",
       "      <td>4</td>\n",
       "      <td>Spooky's Jump Scare Mansion</td>\n",
       "      <td>2015.0</td>\n",
       "      <td>Great game, fun and colorful and all that.A si...</td>\n",
       "      <td>1</td>\n",
       "    </tr>\n",
       "    <tr>\n",
       "      <th>4</th>\n",
       "      <td>5</td>\n",
       "      <td>Spooky's Jump Scare Mansion</td>\n",
       "      <td>2015.0</td>\n",
       "      <td>Not many games have the cute tag right next to...</td>\n",
       "      <td>1</td>\n",
       "    </tr>\n",
       "    <tr>\n",
       "      <th>...</th>\n",
       "      <td>...</td>\n",
       "      <td>...</td>\n",
       "      <td>...</td>\n",
       "      <td>...</td>\n",
       "      <td>...</td>\n",
       "    </tr>\n",
       "    <tr>\n",
       "      <th>17489</th>\n",
       "      <td>25535</td>\n",
       "      <td>EverQuest II</td>\n",
       "      <td>2012.0</td>\n",
       "      <td>Arguably the single greatest mmorp that exists...</td>\n",
       "      <td>1</td>\n",
       "    </tr>\n",
       "    <tr>\n",
       "      <th>17490</th>\n",
       "      <td>25536</td>\n",
       "      <td>EverQuest II</td>\n",
       "      <td>2017.0</td>\n",
       "      <td>An older game, to be sure, but has its own cha...</td>\n",
       "      <td>1</td>\n",
       "    </tr>\n",
       "    <tr>\n",
       "      <th>17491</th>\n",
       "      <td>25537</td>\n",
       "      <td>EverQuest II</td>\n",
       "      <td>2011.0</td>\n",
       "      <td>When I frist started playing Everquest 2 it wa...</td>\n",
       "      <td>1</td>\n",
       "    </tr>\n",
       "    <tr>\n",
       "      <th>17492</th>\n",
       "      <td>25538</td>\n",
       "      <td>EverQuest II</td>\n",
       "      <td>NaN</td>\n",
       "      <td>cool game. THe only thing that REALLY PISSES M...</td>\n",
       "      <td>1</td>\n",
       "    </tr>\n",
       "    <tr>\n",
       "      <th>17493</th>\n",
       "      <td>25539</td>\n",
       "      <td>EverQuest II</td>\n",
       "      <td>NaN</td>\n",
       "      <td>this game since I was a little kid, always hav...</td>\n",
       "      <td>1</td>\n",
       "    </tr>\n",
       "  </tbody>\n",
       "</table>\n",
       "<p>17494 rows × 5 columns</p>\n",
       "</div>"
      ],
      "text/plain": [
       "       review_id                        title    year  \\\n",
       "0              1  Spooky's Jump Scare Mansion  2016.0   \n",
       "1              2  Spooky's Jump Scare Mansion  2016.0   \n",
       "2              3  Spooky's Jump Scare Mansion  2016.0   \n",
       "3              4  Spooky's Jump Scare Mansion  2015.0   \n",
       "4              5  Spooky's Jump Scare Mansion  2015.0   \n",
       "...          ...                          ...     ...   \n",
       "17489      25535                 EverQuest II  2012.0   \n",
       "17490      25536                 EverQuest II  2017.0   \n",
       "17491      25537                 EverQuest II  2011.0   \n",
       "17492      25538                 EverQuest II     NaN   \n",
       "17493      25539                 EverQuest II     NaN   \n",
       "\n",
       "                                             user_review  user_suggestion  \n",
       "0      I'm scared and hearing creepy voices.  So I'll...                1  \n",
       "1      Best game, more better than Sam Pepper's YouTu...                1  \n",
       "2      A littly iffy on the controls, but once you kn...                1  \n",
       "3      Great game, fun and colorful and all that.A si...                1  \n",
       "4      Not many games have the cute tag right next to...                1  \n",
       "...                                                  ...              ...  \n",
       "17489  Arguably the single greatest mmorp that exists...                1  \n",
       "17490  An older game, to be sure, but has its own cha...                1  \n",
       "17491  When I frist started playing Everquest 2 it wa...                1  \n",
       "17492  cool game. THe only thing that REALLY PISSES M...                1  \n",
       "17493  this game since I was a little kid, always hav...                1  \n",
       "\n",
       "[17494 rows x 5 columns]"
      ]
     },
     "execution_count": 233,
     "metadata": {},
     "output_type": "execute_result"
    }
   ],
   "source": [
    "df_steam"
   ]
  },
  {
   "cell_type": "markdown",
   "id": "1966e480",
   "metadata": {},
   "source": [
    "Drop unnecessary columns"
   ]
  },
  {
   "cell_type": "code",
   "execution_count": 234,
   "id": "2df0a0c0",
   "metadata": {},
   "outputs": [],
   "source": [
    "df_steam = df_steam.drop(columns=['review_id', 'title', 'year'])"
   ]
  },
  {
   "cell_type": "markdown",
   "id": "a50b12cb",
   "metadata": {},
   "source": [
    "Check missing values"
   ]
  },
  {
   "cell_type": "code",
   "execution_count": 235,
   "id": "b36990ec",
   "metadata": {},
   "outputs": [
    {
     "data": {
      "text/plain": [
       "user_review        0\n",
       "user_suggestion    0\n",
       "dtype: int64"
      ]
     },
     "execution_count": 235,
     "metadata": {},
     "output_type": "execute_result"
    }
   ],
   "source": [
    "df_steam.isna().sum()"
   ]
  },
  {
   "cell_type": "markdown",
   "id": "78ed30dd",
   "metadata": {},
   "source": [
    "Check duplicates"
   ]
  },
  {
   "cell_type": "code",
   "execution_count": 236,
   "id": "fefe8a3b",
   "metadata": {},
   "outputs": [
    {
     "data": {
      "text/plain": [
       "np.int64(3)"
      ]
     },
     "execution_count": 236,
     "metadata": {},
     "output_type": "execute_result"
    }
   ],
   "source": [
    "df_steam.duplicated().sum()"
   ]
  },
  {
   "cell_type": "code",
   "execution_count": 237,
   "id": "83d7198c",
   "metadata": {},
   "outputs": [],
   "source": [
    "df_steam = df_steam.drop_duplicates()"
   ]
  },
  {
   "cell_type": "code",
   "execution_count": 238,
   "id": "3ffdf2d2",
   "metadata": {},
   "outputs": [
    {
     "data": {
      "text/plain": [
       "user_suggestion\n",
       "1    9967\n",
       "0    7524\n",
       "Name: count, dtype: int64"
      ]
     },
     "execution_count": 238,
     "metadata": {},
     "output_type": "execute_result"
    }
   ],
   "source": [
    "df_steam['user_suggestion'].value_counts()"
   ]
  },
  {
   "cell_type": "markdown",
   "id": "3802e0d5",
   "metadata": {},
   "source": [
    "Normalize text"
   ]
  },
  {
   "cell_type": "code",
   "execution_count": 239,
   "id": "1a295560",
   "metadata": {},
   "outputs": [],
   "source": [
    "def normalize_text(text):\n",
    "    text = text.lower()  # lowercase\n",
    "    text = re.sub(r\"http\\S+\", \"\", text)  # remove URLs\n",
    "    text = re.sub(r\"@\\w+\", \"\", text)     # remove mentions\n",
    "    text = re.sub(r\"#\\w+\", \"\", text)     # remove hashtags\n",
    "    text = re.sub(r\"[^a-z\\s]\", \"\", text) # remove punctuation and numbers\n",
    "    text = re.sub(r\"\\s+\", \" \", text)     # remove extra whitespace\n",
    "    return text.strip()\n",
    "\n",
    "df_steam['user_review'] = df_steam['user_review'].apply(normalize_text)"
   ]
  },
  {
   "cell_type": "markdown",
   "id": "6e87813f",
   "metadata": {},
   "source": [
    "Remove stopwords"
   ]
  },
  {
   "cell_type": "code",
   "execution_count": 240,
   "id": "f72f519d",
   "metadata": {},
   "outputs": [
    {
     "name": "stderr",
     "output_type": "stream",
     "text": [
      "[nltk_data] Downloading package stopwords to\n",
      "[nltk_data]     C:\\Users\\Ping\\AppData\\Roaming\\nltk_data...\n",
      "[nltk_data]   Package stopwords is already up-to-date!\n"
     ]
    }
   ],
   "source": [
    "nltk.download('stopwords')\n",
    "stop_words = set(stopwords.words('english'))\n",
    "\n",
    "def remove_stopwords(text):\n",
    "    words = text.split()\n",
    "    filtered_words = [word for word in words if word not in stop_words]\n",
    "    return \" \".join(filtered_words)\n",
    "\n",
    "df_steam['user_review'] = df_steam['user_review'].apply(remove_stopwords)"
   ]
  },
  {
   "cell_type": "markdown",
   "id": "d55163be",
   "metadata": {},
   "source": [
    "Eliminate row with whitespace"
   ]
  },
  {
   "cell_type": "code",
   "execution_count": 241,
   "id": "e6346e0e",
   "metadata": {},
   "outputs": [
    {
     "name": "stdout",
     "output_type": "stream",
     "text": [
      "Number of empty or whitespace-only user_review rows: 29\n"
     ]
    }
   ],
   "source": [
    "empty_review_mask = df_steam['user_review'].astype(str).str.strip() == ''\n",
    "print(f\"Number of empty or whitespace-only user_review rows: {empty_review_mask.sum()}\")"
   ]
  },
  {
   "cell_type": "code",
   "execution_count": 242,
   "id": "9e0b9ab5",
   "metadata": {},
   "outputs": [],
   "source": [
    "df_steam = df_steam[~empty_review_mask].reset_index(drop=True)"
   ]
  },
  {
   "cell_type": "markdown",
   "id": "98054059",
   "metadata": {},
   "source": [
    "Remove short text"
   ]
  },
  {
   "cell_type": "code",
   "execution_count": 243,
   "id": "6ac038a4",
   "metadata": {},
   "outputs": [
    {
     "name": "stdout",
     "output_type": "stream",
     "text": [
      "Number of short content rows: 34\n"
     ]
    }
   ],
   "source": [
    "short_content_count = df_steam[df_steam['user_review'].str.len() <= 20].shape[0]\n",
    "print(f\"Number of short content rows: {short_content_count}\")"
   ]
  },
  {
   "cell_type": "code",
   "execution_count": 244,
   "id": "179fe5d7",
   "metadata": {},
   "outputs": [],
   "source": [
    "df_steam = df_steam[df_steam['user_review'].str.len() > 20] "
   ]
  },
  {
   "cell_type": "code",
   "execution_count": 245,
   "id": "20dd3b55",
   "metadata": {},
   "outputs": [
    {
     "data": {
      "text/html": [
       "<div>\n",
       "<style scoped>\n",
       "    .dataframe tbody tr th:only-of-type {\n",
       "        vertical-align: middle;\n",
       "    }\n",
       "\n",
       "    .dataframe tbody tr th {\n",
       "        vertical-align: top;\n",
       "    }\n",
       "\n",
       "    .dataframe thead th {\n",
       "        text-align: right;\n",
       "    }\n",
       "</style>\n",
       "<table border=\"1\" class=\"dataframe\">\n",
       "  <thead>\n",
       "    <tr style=\"text-align: right;\">\n",
       "      <th></th>\n",
       "      <th>user_review</th>\n",
       "      <th>user_suggestion</th>\n",
       "    </tr>\n",
       "  </thead>\n",
       "  <tbody>\n",
       "    <tr>\n",
       "      <th>0</th>\n",
       "      <td>im scared hearing creepy voices ill pause mome...</td>\n",
       "      <td>1</td>\n",
       "    </tr>\n",
       "    <tr>\n",
       "      <th>1</th>\n",
       "      <td>best game better sam peppers youtube account y...</td>\n",
       "      <td>1</td>\n",
       "    </tr>\n",
       "    <tr>\n",
       "      <th>2</th>\n",
       "      <td>littly iffy controls know play easy master ive...</td>\n",
       "      <td>1</td>\n",
       "    </tr>\n",
       "    <tr>\n",
       "      <th>3</th>\n",
       "      <td>great game fun colorful thata side note though...</td>\n",
       "      <td>1</td>\n",
       "    </tr>\n",
       "    <tr>\n",
       "      <th>4</th>\n",
       "      <td>many games cute tag right next horror tag stea...</td>\n",
       "      <td>1</td>\n",
       "    </tr>\n",
       "    <tr>\n",
       "      <th>...</th>\n",
       "      <td>...</td>\n",
       "      <td>...</td>\n",
       "    </tr>\n",
       "    <tr>\n",
       "      <th>17457</th>\n",
       "      <td>arguably single greatest mmorp exists today fr...</td>\n",
       "      <td>1</td>\n",
       "    </tr>\n",
       "    <tr>\n",
       "      <th>17458</th>\n",
       "      <td>older game sure charm holds special place hear...</td>\n",
       "      <td>1</td>\n",
       "    </tr>\n",
       "    <tr>\n",
       "      <th>17459</th>\n",
       "      <td>frist started playing everquest amazing still ...</td>\n",
       "      <td>1</td>\n",
       "    </tr>\n",
       "    <tr>\n",
       "      <th>17460</th>\n",
       "      <td>cool game thing really pisses ridable transpor...</td>\n",
       "      <td>1</td>\n",
       "    </tr>\n",
       "    <tr>\n",
       "      <th>17461</th>\n",
       "      <td>game since little kid always since still remem...</td>\n",
       "      <td>1</td>\n",
       "    </tr>\n",
       "  </tbody>\n",
       "</table>\n",
       "<p>17428 rows × 2 columns</p>\n",
       "</div>"
      ],
      "text/plain": [
       "                                             user_review  user_suggestion\n",
       "0      im scared hearing creepy voices ill pause mome...                1\n",
       "1      best game better sam peppers youtube account y...                1\n",
       "2      littly iffy controls know play easy master ive...                1\n",
       "3      great game fun colorful thata side note though...                1\n",
       "4      many games cute tag right next horror tag stea...                1\n",
       "...                                                  ...              ...\n",
       "17457  arguably single greatest mmorp exists today fr...                1\n",
       "17458  older game sure charm holds special place hear...                1\n",
       "17459  frist started playing everquest amazing still ...                1\n",
       "17460  cool game thing really pisses ridable transpor...                1\n",
       "17461  game since little kid always since still remem...                1\n",
       "\n",
       "[17428 rows x 2 columns]"
      ]
     },
     "execution_count": 245,
     "metadata": {},
     "output_type": "execute_result"
    }
   ],
   "source": [
    "df_steam"
   ]
  },
  {
   "cell_type": "markdown",
   "id": "0a7ca5b3",
   "metadata": {},
   "source": [
    "## 2. Reddit review"
   ]
  },
  {
   "cell_type": "code",
   "execution_count": 246,
   "id": "76f59105",
   "metadata": {},
   "outputs": [],
   "source": [
    "df_reddit = pd.read_csv('raw_data/cleaned_comments.csv')"
   ]
  },
  {
   "cell_type": "code",
   "execution_count": 247,
   "id": "73e278fe",
   "metadata": {},
   "outputs": [
    {
     "data": {
      "text/html": [
       "<div>\n",
       "<style scoped>\n",
       "    .dataframe tbody tr th:only-of-type {\n",
       "        vertical-align: middle;\n",
       "    }\n",
       "\n",
       "    .dataframe tbody tr th {\n",
       "        vertical-align: top;\n",
       "    }\n",
       "\n",
       "    .dataframe thead th {\n",
       "        text-align: right;\n",
       "    }\n",
       "</style>\n",
       "<table border=\"1\" class=\"dataframe\">\n",
       "  <thead>\n",
       "    <tr style=\"text-align: right;\">\n",
       "      <th></th>\n",
       "      <th>Unnamed: 0</th>\n",
       "      <th>comment</th>\n",
       "      <th>sentiment</th>\n",
       "    </tr>\n",
       "  </thead>\n",
       "  <tbody>\n",
       "    <tr>\n",
       "      <th>0</th>\n",
       "      <td>0</td>\n",
       "      <td>dont think like game havent even played minute...</td>\n",
       "      <td>negative</td>\n",
       "    </tr>\n",
       "    <tr>\n",
       "      <th>1</th>\n",
       "      <td>1</td>\n",
       "      <td>leave farm smaller creature either wait help k...</td>\n",
       "      <td>negative</td>\n",
       "    </tr>\n",
       "    <tr>\n",
       "      <th>2</th>\n",
       "      <td>2</td>\n",
       "      <td>nothing beat feeling get see fall love like ye...</td>\n",
       "      <td>positive</td>\n",
       "    </tr>\n",
       "    <tr>\n",
       "      <th>3</th>\n",
       "      <td>3</td>\n",
       "      <td>also theyre made paper edit tried make gif fai...</td>\n",
       "      <td>negative</td>\n",
       "    </tr>\n",
       "    <tr>\n",
       "      <th>4</th>\n",
       "      <td>4</td>\n",
       "      <td>haha exactly brother tried get wow run raid ge...</td>\n",
       "      <td>positive</td>\n",
       "    </tr>\n",
       "    <tr>\n",
       "      <th>...</th>\n",
       "      <td>...</td>\n",
       "      <td>...</td>\n",
       "      <td>...</td>\n",
       "    </tr>\n",
       "    <tr>\n",
       "      <th>21816</th>\n",
       "      <td>23184</td>\n",
       "      <td>dont angry</td>\n",
       "      <td>positive</td>\n",
       "    </tr>\n",
       "    <tr>\n",
       "      <th>21817</th>\n",
       "      <td>23185</td>\n",
       "      <td>human free developed relationship esteemed fellow</td>\n",
       "      <td>positive</td>\n",
       "    </tr>\n",
       "    <tr>\n",
       "      <th>21818</th>\n",
       "      <td>23186</td>\n",
       "      <td>dont call shot around mister</td>\n",
       "      <td>neutral</td>\n",
       "    </tr>\n",
       "    <tr>\n",
       "      <th>21819</th>\n",
       "      <td>23187</td>\n",
       "      <td>sorry going edit beauty mark face</td>\n",
       "      <td>positive</td>\n",
       "    </tr>\n",
       "    <tr>\n",
       "      <th>21820</th>\n",
       "      <td>23188</td>\n",
       "      <td>haha put part face kept disappearing fixed</td>\n",
       "      <td>positive</td>\n",
       "    </tr>\n",
       "  </tbody>\n",
       "</table>\n",
       "<p>21821 rows × 3 columns</p>\n",
       "</div>"
      ],
      "text/plain": [
       "       Unnamed: 0                                            comment sentiment\n",
       "0               0  dont think like game havent even played minute...  negative\n",
       "1               1  leave farm smaller creature either wait help k...  negative\n",
       "2               2  nothing beat feeling get see fall love like ye...  positive\n",
       "3               3  also theyre made paper edit tried make gif fai...  negative\n",
       "4               4  haha exactly brother tried get wow run raid ge...  positive\n",
       "...           ...                                                ...       ...\n",
       "21816       23184                                         dont angry  positive\n",
       "21817       23185  human free developed relationship esteemed fellow  positive\n",
       "21818       23186                       dont call shot around mister   neutral\n",
       "21819       23187                  sorry going edit beauty mark face  positive\n",
       "21820       23188         haha put part face kept disappearing fixed  positive\n",
       "\n",
       "[21821 rows x 3 columns]"
      ]
     },
     "execution_count": 247,
     "metadata": {},
     "output_type": "execute_result"
    }
   ],
   "source": [
    "df_reddit"
   ]
  },
  {
   "cell_type": "markdown",
   "id": "f290d41f",
   "metadata": {},
   "source": [
    "Drop index column"
   ]
  },
  {
   "cell_type": "code",
   "execution_count": 248,
   "id": "96f643cc",
   "metadata": {},
   "outputs": [],
   "source": [
    "df_reddit = df_reddit.drop(df_reddit.columns[0], axis=1)"
   ]
  },
  {
   "cell_type": "markdown",
   "id": "82ec8b24",
   "metadata": {},
   "source": [
    "Eliminate neutral sentiment records"
   ]
  },
  {
   "cell_type": "code",
   "execution_count": 249,
   "id": "2bb43f8e",
   "metadata": {},
   "outputs": [],
   "source": [
    "df_reddit = df_reddit[df_reddit['sentiment'] != 'neutral']"
   ]
  },
  {
   "cell_type": "markdown",
   "id": "f2d602a8",
   "metadata": {},
   "source": [
    "Check missing values"
   ]
  },
  {
   "cell_type": "code",
   "execution_count": 250,
   "id": "47e0d2ea",
   "metadata": {},
   "outputs": [
    {
     "data": {
      "text/plain": [
       "comment      16\n",
       "sentiment     0\n",
       "dtype: int64"
      ]
     },
     "execution_count": 250,
     "metadata": {},
     "output_type": "execute_result"
    }
   ],
   "source": [
    "df_reddit.isna().sum()"
   ]
  },
  {
   "cell_type": "code",
   "execution_count": 251,
   "id": "09da2855",
   "metadata": {},
   "outputs": [],
   "source": [
    "df_reddit = df_reddit.dropna(subset='comment')"
   ]
  },
  {
   "cell_type": "markdown",
   "id": "37e0e018",
   "metadata": {},
   "source": [
    "Check duplicates"
   ]
  },
  {
   "cell_type": "code",
   "execution_count": 252,
   "id": "1a89e922",
   "metadata": {},
   "outputs": [
    {
     "data": {
      "text/plain": [
       "np.int64(396)"
      ]
     },
     "execution_count": 252,
     "metadata": {},
     "output_type": "execute_result"
    }
   ],
   "source": [
    "df_reddit.duplicated().sum()"
   ]
  },
  {
   "cell_type": "code",
   "execution_count": 253,
   "id": "84220b21",
   "metadata": {},
   "outputs": [],
   "source": [
    "df_reddit = df_reddit.drop_duplicates()"
   ]
  },
  {
   "cell_type": "markdown",
   "id": "48a4ddbe",
   "metadata": {},
   "source": [
    "Remove stopwords"
   ]
  },
  {
   "cell_type": "code",
   "execution_count": 254,
   "id": "a64d93f0",
   "metadata": {},
   "outputs": [],
   "source": [
    "df_reddit['comment'] = df_reddit['comment'].apply(remove_stopwords)"
   ]
  },
  {
   "cell_type": "markdown",
   "id": "1cdfcf36",
   "metadata": {},
   "source": [
    "Map sentiment column"
   ]
  },
  {
   "cell_type": "code",
   "execution_count": 255,
   "id": "f2b6b9a7",
   "metadata": {},
   "outputs": [],
   "source": [
    "df_reddit['sentiment'] = df_reddit['sentiment'].map({'positive': 1, 'negative': 0})"
   ]
  },
  {
   "cell_type": "markdown",
   "id": "20cdeace",
   "metadata": {},
   "source": [
    "Check profanity words and remove them"
   ]
  },
  {
   "cell_type": "code",
   "execution_count": 256,
   "id": "0fe2bde4",
   "metadata": {},
   "outputs": [
    {
     "name": "stdout",
     "output_type": "stream",
     "text": [
      "Reviews with profanity: 1387\n"
     ]
    }
   ],
   "source": [
    "profanity_list = {\n",
    "    \"fuck\", \"shit\", \"bitch\", \"asshole\", \"bastard\", \"damn\", \"dick\", \"crap\",\n",
    "    \"fucking\", \"piss\", \"slut\", \"douche\", \"cock\", \"nigger\", \"nigga\", \"cunt\",\n",
    "    \"whore\", \"motherfucker\", \"bullshit\", \"fag\", \"retard\"\n",
    "}\n",
    "\n",
    "def contains_profanity(text):\n",
    "    if isinstance(text, str):\n",
    "        words = set(re.findall(r'\\w+', text.lower()))\n",
    "        return bool(words & profanity_list)\n",
    "    return False\n",
    "\n",
    "num_profanity = df_reddit['comment'].apply(contains_profanity).sum()\n",
    "print(f\"Reviews with profanity: {num_profanity}\")"
   ]
  },
  {
   "cell_type": "code",
   "execution_count": 257,
   "id": "a5c5e8c5",
   "metadata": {},
   "outputs": [],
   "source": [
    "df_reddit = df_reddit[~df_reddit['comment'].apply(contains_profanity)].reset_index(drop=True)"
   ]
  },
  {
   "cell_type": "markdown",
   "id": "8f2e17fa",
   "metadata": {},
   "source": [
    "Remove short text"
   ]
  },
  {
   "cell_type": "code",
   "execution_count": 258,
   "id": "145da4eb",
   "metadata": {},
   "outputs": [
    {
     "name": "stdout",
     "output_type": "stream",
     "text": [
      "Number of short content rows: 1997\n"
     ]
    }
   ],
   "source": [
    "short_content_count = df_reddit[df_reddit['comment'].str.len() <= 20].shape[0]\n",
    "print(f\"Number of short content rows: {short_content_count}\")"
   ]
  },
  {
   "cell_type": "code",
   "execution_count": 259,
   "id": "5c4baacf",
   "metadata": {},
   "outputs": [],
   "source": [
    "df_reddit = df_reddit[df_reddit['comment'].str.len() > 20] "
   ]
  },
  {
   "cell_type": "markdown",
   "id": "bd6eef2f",
   "metadata": {},
   "source": [
    "Rename columns"
   ]
  },
  {
   "cell_type": "code",
   "execution_count": 260,
   "id": "6c612848",
   "metadata": {},
   "outputs": [],
   "source": [
    "df_reddit = df_reddit.rename(columns={\n",
    "    'comment': 'user_review',\n",
    "    'sentiment': 'user_suggestion'\n",
    "})"
   ]
  },
  {
   "cell_type": "code",
   "execution_count": 261,
   "id": "9084b3eb",
   "metadata": {},
   "outputs": [
    {
     "data": {
      "text/html": [
       "<div>\n",
       "<style scoped>\n",
       "    .dataframe tbody tr th:only-of-type {\n",
       "        vertical-align: middle;\n",
       "    }\n",
       "\n",
       "    .dataframe tbody tr th {\n",
       "        vertical-align: top;\n",
       "    }\n",
       "\n",
       "    .dataframe thead th {\n",
       "        text-align: right;\n",
       "    }\n",
       "</style>\n",
       "<table border=\"1\" class=\"dataframe\">\n",
       "  <thead>\n",
       "    <tr style=\"text-align: right;\">\n",
       "      <th></th>\n",
       "      <th>user_review</th>\n",
       "      <th>user_suggestion</th>\n",
       "    </tr>\n",
       "  </thead>\n",
       "  <tbody>\n",
       "    <tr>\n",
       "      <th>0</th>\n",
       "      <td>dont think like game havent even played minute...</td>\n",
       "      <td>0</td>\n",
       "    </tr>\n",
       "    <tr>\n",
       "      <th>1</th>\n",
       "      <td>leave farm smaller creature either wait help k...</td>\n",
       "      <td>0</td>\n",
       "    </tr>\n",
       "    <tr>\n",
       "      <th>2</th>\n",
       "      <td>nothing beat feeling get see fall love like ye...</td>\n",
       "      <td>1</td>\n",
       "    </tr>\n",
       "    <tr>\n",
       "      <th>3</th>\n",
       "      <td>also theyre made paper edit tried make gif fai...</td>\n",
       "      <td>0</td>\n",
       "    </tr>\n",
       "    <tr>\n",
       "      <th>4</th>\n",
       "      <td>haha exactly brother tried get wow run raid ge...</td>\n",
       "      <td>1</td>\n",
       "    </tr>\n",
       "    <tr>\n",
       "      <th>...</th>\n",
       "      <td>...</td>\n",
       "      <td>...</td>\n",
       "    </tr>\n",
       "    <tr>\n",
       "      <th>12002</th>\n",
       "      <td>unless figure make face without dot edit give ...</td>\n",
       "      <td>0</td>\n",
       "    </tr>\n",
       "    <tr>\n",
       "      <th>12003</th>\n",
       "      <td>pa love child cousin equally jezzabell</td>\n",
       "      <td>1</td>\n",
       "    </tr>\n",
       "    <tr>\n",
       "      <th>12006</th>\n",
       "      <td>human free developed relationship esteemed fellow</td>\n",
       "      <td>1</td>\n",
       "    </tr>\n",
       "    <tr>\n",
       "      <th>12007</th>\n",
       "      <td>sorry going edit beauty mark face</td>\n",
       "      <td>1</td>\n",
       "    </tr>\n",
       "    <tr>\n",
       "      <th>12008</th>\n",
       "      <td>haha put part face kept disappearing fixed</td>\n",
       "      <td>1</td>\n",
       "    </tr>\n",
       "  </tbody>\n",
       "</table>\n",
       "<p>10012 rows × 2 columns</p>\n",
       "</div>"
      ],
      "text/plain": [
       "                                             user_review  user_suggestion\n",
       "0      dont think like game havent even played minute...                0\n",
       "1      leave farm smaller creature either wait help k...                0\n",
       "2      nothing beat feeling get see fall love like ye...                1\n",
       "3      also theyre made paper edit tried make gif fai...                0\n",
       "4      haha exactly brother tried get wow run raid ge...                1\n",
       "...                                                  ...              ...\n",
       "12002  unless figure make face without dot edit give ...                0\n",
       "12003             pa love child cousin equally jezzabell                1\n",
       "12006  human free developed relationship esteemed fellow                1\n",
       "12007                  sorry going edit beauty mark face                1\n",
       "12008         haha put part face kept disappearing fixed                1\n",
       "\n",
       "[10012 rows x 2 columns]"
      ]
     },
     "execution_count": 261,
     "metadata": {},
     "output_type": "execute_result"
    }
   ],
   "source": [
    "df_reddit"
   ]
  },
  {
   "cell_type": "markdown",
   "id": "01acc936",
   "metadata": {},
   "source": [
    "## 3. Main dataset"
   ]
  },
  {
   "cell_type": "code",
   "execution_count": 262,
   "id": "3644d78f",
   "metadata": {},
   "outputs": [],
   "source": [
    "df = pd.concat([df_steam, df_reddit], axis=0).reset_index(drop=True)"
   ]
  },
  {
   "cell_type": "code",
   "execution_count": 263,
   "id": "623d7e06",
   "metadata": {},
   "outputs": [
    {
     "data": {
      "text/html": [
       "<div>\n",
       "<style scoped>\n",
       "    .dataframe tbody tr th:only-of-type {\n",
       "        vertical-align: middle;\n",
       "    }\n",
       "\n",
       "    .dataframe tbody tr th {\n",
       "        vertical-align: top;\n",
       "    }\n",
       "\n",
       "    .dataframe thead th {\n",
       "        text-align: right;\n",
       "    }\n",
       "</style>\n",
       "<table border=\"1\" class=\"dataframe\">\n",
       "  <thead>\n",
       "    <tr style=\"text-align: right;\">\n",
       "      <th></th>\n",
       "      <th>user_review</th>\n",
       "      <th>user_suggestion</th>\n",
       "    </tr>\n",
       "  </thead>\n",
       "  <tbody>\n",
       "    <tr>\n",
       "      <th>0</th>\n",
       "      <td>im scared hearing creepy voices ill pause mome...</td>\n",
       "      <td>1</td>\n",
       "    </tr>\n",
       "    <tr>\n",
       "      <th>1</th>\n",
       "      <td>best game better sam peppers youtube account y...</td>\n",
       "      <td>1</td>\n",
       "    </tr>\n",
       "    <tr>\n",
       "      <th>2</th>\n",
       "      <td>littly iffy controls know play easy master ive...</td>\n",
       "      <td>1</td>\n",
       "    </tr>\n",
       "    <tr>\n",
       "      <th>3</th>\n",
       "      <td>great game fun colorful thata side note though...</td>\n",
       "      <td>1</td>\n",
       "    </tr>\n",
       "    <tr>\n",
       "      <th>4</th>\n",
       "      <td>many games cute tag right next horror tag stea...</td>\n",
       "      <td>1</td>\n",
       "    </tr>\n",
       "    <tr>\n",
       "      <th>...</th>\n",
       "      <td>...</td>\n",
       "      <td>...</td>\n",
       "    </tr>\n",
       "    <tr>\n",
       "      <th>27435</th>\n",
       "      <td>unless figure make face without dot edit give ...</td>\n",
       "      <td>0</td>\n",
       "    </tr>\n",
       "    <tr>\n",
       "      <th>27436</th>\n",
       "      <td>pa love child cousin equally jezzabell</td>\n",
       "      <td>1</td>\n",
       "    </tr>\n",
       "    <tr>\n",
       "      <th>27437</th>\n",
       "      <td>human free developed relationship esteemed fellow</td>\n",
       "      <td>1</td>\n",
       "    </tr>\n",
       "    <tr>\n",
       "      <th>27438</th>\n",
       "      <td>sorry going edit beauty mark face</td>\n",
       "      <td>1</td>\n",
       "    </tr>\n",
       "    <tr>\n",
       "      <th>27439</th>\n",
       "      <td>haha put part face kept disappearing fixed</td>\n",
       "      <td>1</td>\n",
       "    </tr>\n",
       "  </tbody>\n",
       "</table>\n",
       "<p>27440 rows × 2 columns</p>\n",
       "</div>"
      ],
      "text/plain": [
       "                                             user_review  user_suggestion\n",
       "0      im scared hearing creepy voices ill pause mome...                1\n",
       "1      best game better sam peppers youtube account y...                1\n",
       "2      littly iffy controls know play easy master ive...                1\n",
       "3      great game fun colorful thata side note though...                1\n",
       "4      many games cute tag right next horror tag stea...                1\n",
       "...                                                  ...              ...\n",
       "27435  unless figure make face without dot edit give ...                0\n",
       "27436             pa love child cousin equally jezzabell                1\n",
       "27437  human free developed relationship esteemed fellow                1\n",
       "27438                  sorry going edit beauty mark face                1\n",
       "27439         haha put part face kept disappearing fixed                1\n",
       "\n",
       "[27440 rows x 2 columns]"
      ]
     },
     "execution_count": 263,
     "metadata": {},
     "output_type": "execute_result"
    }
   ],
   "source": [
    "df"
   ]
  },
  {
   "cell_type": "code",
   "execution_count": 264,
   "id": "90e4da3c",
   "metadata": {},
   "outputs": [],
   "source": [
    "df.to_csv('review_preprocessed.csv')"
   ]
  },
  {
   "cell_type": "code",
   "execution_count": 265,
   "id": "8ae19a8c",
   "metadata": {},
   "outputs": [
    {
     "data": {
      "text/plain": [
       "user_suggestion\n",
       "1    17344\n",
       "0    10096\n",
       "Name: count, dtype: int64"
      ]
     },
     "execution_count": 265,
     "metadata": {},
     "output_type": "execute_result"
    }
   ],
   "source": [
    "df['user_suggestion'].value_counts()"
   ]
  },
  {
   "cell_type": "markdown",
   "id": "bce626cf",
   "metadata": {},
   "source": [
    "Split train + valid + test (8:1:1)"
   ]
  },
  {
   "cell_type": "code",
   "execution_count": 266,
   "id": "f4c20b58",
   "metadata": {},
   "outputs": [],
   "source": [
    "# First split: 80% train, 20% temp (val + test)\n",
    "train_df, temp_df = train_test_split(\n",
    "    df,\n",
    "    test_size=0.2,\n",
    "    random_state=42,\n",
    "    stratify=df['user_suggestion']  \n",
    ")\n",
    "\n",
    "# Second split: 10% val, 10% test (from the 20% temp)\n",
    "val_df, test_df = train_test_split(\n",
    "    temp_df,\n",
    "    test_size=0.5,\n",
    "    random_state=42,\n",
    "    stratify=temp_df['user_suggestion']\n",
    ")"
   ]
  },
  {
   "cell_type": "code",
   "execution_count": 267,
   "id": "b0bbac4a",
   "metadata": {},
   "outputs": [],
   "source": [
    "train_df.to_csv('train.csv')\n",
    "test_df.to_csv('test.csv')\n",
    "val_df.to_csv('val.csv')"
   ]
  }
 ],
 "metadata": {
  "kernelspec": {
   "display_name": "Python 3",
   "language": "python",
   "name": "python3"
  },
  "language_info": {
   "codemirror_mode": {
    "name": "ipython",
    "version": 3
   },
   "file_extension": ".py",
   "mimetype": "text/x-python",
   "name": "python",
   "nbconvert_exporter": "python",
   "pygments_lexer": "ipython3",
   "version": "3.11.9"
  }
 },
 "nbformat": 4,
 "nbformat_minor": 5
}
