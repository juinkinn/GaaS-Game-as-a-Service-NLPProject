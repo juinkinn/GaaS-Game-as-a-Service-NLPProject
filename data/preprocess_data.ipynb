{
 "cells": [
  {
   "cell_type": "markdown",
   "id": "d9f59632",
   "metadata": {},
   "source": [
    "# Preprocess data"
   ]
  },
  {
   "cell_type": "code",
   "execution_count": 172,
   "id": "53d2564d",
   "metadata": {},
   "outputs": [],
   "source": [
    "import pandas as pd\n",
    "import re\n",
    "from sklearn.model_selection import train_test_split\n",
    "import emoji\n",
    "import unicodedata"
   ]
  },
  {
   "cell_type": "markdown",
   "id": "2da3a3d6",
   "metadata": {},
   "source": [
    "## 1. Steam review"
   ]
  },
  {
   "cell_type": "code",
   "execution_count": 173,
   "id": "cd4119db",
   "metadata": {},
   "outputs": [],
   "source": [
    "df_steam = pd.read_csv('raw_data/train.csv')"
   ]
  },
  {
   "cell_type": "code",
   "execution_count": 174,
   "id": "ea3d91df",
   "metadata": {},
   "outputs": [
    {
     "data": {
      "text/html": [
       "<div>\n",
       "<style scoped>\n",
       "    .dataframe tbody tr th:only-of-type {\n",
       "        vertical-align: middle;\n",
       "    }\n",
       "\n",
       "    .dataframe tbody tr th {\n",
       "        vertical-align: top;\n",
       "    }\n",
       "\n",
       "    .dataframe thead th {\n",
       "        text-align: right;\n",
       "    }\n",
       "</style>\n",
       "<table border=\"1\" class=\"dataframe\">\n",
       "  <thead>\n",
       "    <tr style=\"text-align: right;\">\n",
       "      <th></th>\n",
       "      <th>review_id</th>\n",
       "      <th>title</th>\n",
       "      <th>year</th>\n",
       "      <th>user_review</th>\n",
       "      <th>user_suggestion</th>\n",
       "    </tr>\n",
       "  </thead>\n",
       "  <tbody>\n",
       "    <tr>\n",
       "      <th>0</th>\n",
       "      <td>1</td>\n",
       "      <td>Spooky's Jump Scare Mansion</td>\n",
       "      <td>2016.0</td>\n",
       "      <td>I'm scared and hearing creepy voices.  So I'll...</td>\n",
       "      <td>1</td>\n",
       "    </tr>\n",
       "    <tr>\n",
       "      <th>1</th>\n",
       "      <td>2</td>\n",
       "      <td>Spooky's Jump Scare Mansion</td>\n",
       "      <td>2016.0</td>\n",
       "      <td>Best game, more better than Sam Pepper's YouTu...</td>\n",
       "      <td>1</td>\n",
       "    </tr>\n",
       "    <tr>\n",
       "      <th>2</th>\n",
       "      <td>3</td>\n",
       "      <td>Spooky's Jump Scare Mansion</td>\n",
       "      <td>2016.0</td>\n",
       "      <td>A littly iffy on the controls, but once you kn...</td>\n",
       "      <td>1</td>\n",
       "    </tr>\n",
       "    <tr>\n",
       "      <th>3</th>\n",
       "      <td>4</td>\n",
       "      <td>Spooky's Jump Scare Mansion</td>\n",
       "      <td>2015.0</td>\n",
       "      <td>Great game, fun and colorful and all that.A si...</td>\n",
       "      <td>1</td>\n",
       "    </tr>\n",
       "    <tr>\n",
       "      <th>4</th>\n",
       "      <td>5</td>\n",
       "      <td>Spooky's Jump Scare Mansion</td>\n",
       "      <td>2015.0</td>\n",
       "      <td>Not many games have the cute tag right next to...</td>\n",
       "      <td>1</td>\n",
       "    </tr>\n",
       "    <tr>\n",
       "      <th>...</th>\n",
       "      <td>...</td>\n",
       "      <td>...</td>\n",
       "      <td>...</td>\n",
       "      <td>...</td>\n",
       "      <td>...</td>\n",
       "    </tr>\n",
       "    <tr>\n",
       "      <th>17489</th>\n",
       "      <td>25535</td>\n",
       "      <td>EverQuest II</td>\n",
       "      <td>2012.0</td>\n",
       "      <td>Arguably the single greatest mmorp that exists...</td>\n",
       "      <td>1</td>\n",
       "    </tr>\n",
       "    <tr>\n",
       "      <th>17490</th>\n",
       "      <td>25536</td>\n",
       "      <td>EverQuest II</td>\n",
       "      <td>2017.0</td>\n",
       "      <td>An older game, to be sure, but has its own cha...</td>\n",
       "      <td>1</td>\n",
       "    </tr>\n",
       "    <tr>\n",
       "      <th>17491</th>\n",
       "      <td>25537</td>\n",
       "      <td>EverQuest II</td>\n",
       "      <td>2011.0</td>\n",
       "      <td>When I frist started playing Everquest 2 it wa...</td>\n",
       "      <td>1</td>\n",
       "    </tr>\n",
       "    <tr>\n",
       "      <th>17492</th>\n",
       "      <td>25538</td>\n",
       "      <td>EverQuest II</td>\n",
       "      <td>NaN</td>\n",
       "      <td>cool game. THe only thing that REALLY PISSES M...</td>\n",
       "      <td>1</td>\n",
       "    </tr>\n",
       "    <tr>\n",
       "      <th>17493</th>\n",
       "      <td>25539</td>\n",
       "      <td>EverQuest II</td>\n",
       "      <td>NaN</td>\n",
       "      <td>this game since I was a little kid, always hav...</td>\n",
       "      <td>1</td>\n",
       "    </tr>\n",
       "  </tbody>\n",
       "</table>\n",
       "<p>17494 rows × 5 columns</p>\n",
       "</div>"
      ],
      "text/plain": [
       "       review_id                        title    year  \\\n",
       "0              1  Spooky's Jump Scare Mansion  2016.0   \n",
       "1              2  Spooky's Jump Scare Mansion  2016.0   \n",
       "2              3  Spooky's Jump Scare Mansion  2016.0   \n",
       "3              4  Spooky's Jump Scare Mansion  2015.0   \n",
       "4              5  Spooky's Jump Scare Mansion  2015.0   \n",
       "...          ...                          ...     ...   \n",
       "17489      25535                 EverQuest II  2012.0   \n",
       "17490      25536                 EverQuest II  2017.0   \n",
       "17491      25537                 EverQuest II  2011.0   \n",
       "17492      25538                 EverQuest II     NaN   \n",
       "17493      25539                 EverQuest II     NaN   \n",
       "\n",
       "                                             user_review  user_suggestion  \n",
       "0      I'm scared and hearing creepy voices.  So I'll...                1  \n",
       "1      Best game, more better than Sam Pepper's YouTu...                1  \n",
       "2      A littly iffy on the controls, but once you kn...                1  \n",
       "3      Great game, fun and colorful and all that.A si...                1  \n",
       "4      Not many games have the cute tag right next to...                1  \n",
       "...                                                  ...              ...  \n",
       "17489  Arguably the single greatest mmorp that exists...                1  \n",
       "17490  An older game, to be sure, but has its own cha...                1  \n",
       "17491  When I frist started playing Everquest 2 it wa...                1  \n",
       "17492  cool game. THe only thing that REALLY PISSES M...                1  \n",
       "17493  this game since I was a little kid, always hav...                1  \n",
       "\n",
       "[17494 rows x 5 columns]"
      ]
     },
     "execution_count": 174,
     "metadata": {},
     "output_type": "execute_result"
    }
   ],
   "source": [
    "df_steam"
   ]
  },
  {
   "cell_type": "markdown",
   "id": "1966e480",
   "metadata": {},
   "source": [
    "Drop unnecessary columns"
   ]
  },
  {
   "cell_type": "code",
   "execution_count": 175,
   "id": "2df0a0c0",
   "metadata": {},
   "outputs": [],
   "source": [
    "df_steam = df_steam.drop(columns=['review_id', 'title', 'year'])"
   ]
  },
  {
   "cell_type": "markdown",
   "id": "a50b12cb",
   "metadata": {},
   "source": [
    "Check missing values"
   ]
  },
  {
   "cell_type": "code",
   "execution_count": 176,
   "id": "b36990ec",
   "metadata": {},
   "outputs": [
    {
     "data": {
      "text/plain": [
       "user_review        0\n",
       "user_suggestion    0\n",
       "dtype: int64"
      ]
     },
     "execution_count": 176,
     "metadata": {},
     "output_type": "execute_result"
    }
   ],
   "source": [
    "df_steam.isna().sum()"
   ]
  },
  {
   "cell_type": "markdown",
   "id": "78ed30dd",
   "metadata": {},
   "source": [
    "Check duplicates"
   ]
  },
  {
   "cell_type": "code",
   "execution_count": 177,
   "id": "fefe8a3b",
   "metadata": {},
   "outputs": [
    {
     "data": {
      "text/plain": [
       "np.int64(3)"
      ]
     },
     "execution_count": 177,
     "metadata": {},
     "output_type": "execute_result"
    }
   ],
   "source": [
    "df_steam.duplicated().sum()"
   ]
  },
  {
   "cell_type": "code",
   "execution_count": 178,
   "id": "83d7198c",
   "metadata": {},
   "outputs": [],
   "source": [
    "df_steam = df_steam.drop_duplicates()"
   ]
  },
  {
   "cell_type": "code",
   "execution_count": 179,
   "id": "3ffdf2d2",
   "metadata": {},
   "outputs": [
    {
     "data": {
      "text/plain": [
       "user_suggestion\n",
       "1    9967\n",
       "0    7524\n",
       "Name: count, dtype: int64"
      ]
     },
     "execution_count": 179,
     "metadata": {},
     "output_type": "execute_result"
    }
   ],
   "source": [
    "df_steam['user_suggestion'].value_counts()"
   ]
  },
  {
   "cell_type": "markdown",
   "id": "3802e0d5",
   "metadata": {},
   "source": [
    "Normalize text"
   ]
  },
  {
   "cell_type": "code",
   "execution_count": 180,
   "id": "1a295560",
   "metadata": {},
   "outputs": [],
   "source": [
    "def normalize_text(text):\n",
    "    text = text.lower()  # lowercase\n",
    "\n",
    "    # remove 'early access review' at the beginning\n",
    "    text = re.sub(r\"^(early access review[\\s:\\-–—)]*)\", \"\", text, flags=re.IGNORECASE)\n",
    "\n",
    "    # remove URLs, mentions, hashtags\n",
    "    text = re.sub(r\"http\\S+\", \"\", text)\n",
    "    text = re.sub(r\"@\\w+\", \"\", text)\n",
    "    text = re.sub(r\"#\\w+\", \"\", text)\n",
    "\n",
    "    # remove numbers\n",
    "    text = re.sub(r\"\\d+\", \"\", text)\n",
    "\n",
    "    # remove emojis and icons\n",
    "    text = emoji.replace_emoji(text, replace='')\n",
    "\n",
    "    # Remove spam patterns: no more than 3 consecutive identical characters\n",
    "    # e.g., \"goooood\" → \"good\", \"aaaaawesome\" → \"awesome\"\n",
    "    text = re.sub(r'(.)\\1{3,}', r'\\1\\1\\1', text)  # Keep up to 3 repeats\n",
    "    \n",
    "    # remove non-printable or control characters + double quotes\n",
    "    text = ''.join(\n",
    "        c for c in text \n",
    "        if unicodedata.category(c)[0] != 'C' and c.isprintable() and c != '\"'\n",
    "    )\n",
    "\n",
    "    # normalize whitespace\n",
    "    text = re.sub(r\"\\s+\", \" \", text)\n",
    "\n",
    "    return text.strip()\n",
    "\n",
    "# Apply to the DataFrame\n",
    "df_steam['user_review'] = df_steam['user_review'].apply(normalize_text)"
   ]
  },
  {
   "cell_type": "markdown",
   "id": "d55163be",
   "metadata": {},
   "source": [
    "Eliminate row with whitespace"
   ]
  },
  {
   "cell_type": "code",
   "execution_count": 181,
   "id": "e6346e0e",
   "metadata": {},
   "outputs": [
    {
     "name": "stdout",
     "output_type": "stream",
     "text": [
      "Number of empty or whitespace-only user_review rows: 2\n"
     ]
    }
   ],
   "source": [
    "empty_review_mask = df_steam['user_review'].astype(str).str.strip() == ''\n",
    "print(f\"Number of empty or whitespace-only user_review rows: {empty_review_mask.sum()}\")"
   ]
  },
  {
   "cell_type": "code",
   "execution_count": 182,
   "id": "9e0b9ab5",
   "metadata": {},
   "outputs": [],
   "source": [
    "df_steam = df_steam[~empty_review_mask].reset_index(drop=True)"
   ]
  },
  {
   "cell_type": "markdown",
   "id": "98054059",
   "metadata": {},
   "source": [
    "Remove short text"
   ]
  },
  {
   "cell_type": "code",
   "execution_count": 183,
   "id": "6ac038a4",
   "metadata": {},
   "outputs": [
    {
     "name": "stdout",
     "output_type": "stream",
     "text": [
      "Number of short content rows: 13\n"
     ]
    }
   ],
   "source": [
    "short_content_count = df_steam[df_steam['user_review'].str.len() <= 20].shape[0]\n",
    "print(f\"Number of short content rows: {short_content_count}\")"
   ]
  },
  {
   "cell_type": "code",
   "execution_count": 184,
   "id": "179fe5d7",
   "metadata": {},
   "outputs": [],
   "source": [
    "df_steam = df_steam[df_steam['user_review'].str.len() > 20] "
   ]
  },
  {
   "cell_type": "code",
   "execution_count": 185,
   "id": "20dd3b55",
   "metadata": {},
   "outputs": [
    {
     "data": {
      "text/html": [
       "<div>\n",
       "<style scoped>\n",
       "    .dataframe tbody tr th:only-of-type {\n",
       "        vertical-align: middle;\n",
       "    }\n",
       "\n",
       "    .dataframe tbody tr th {\n",
       "        vertical-align: top;\n",
       "    }\n",
       "\n",
       "    .dataframe thead th {\n",
       "        text-align: right;\n",
       "    }\n",
       "</style>\n",
       "<table border=\"1\" class=\"dataframe\">\n",
       "  <thead>\n",
       "    <tr style=\"text-align: right;\">\n",
       "      <th></th>\n",
       "      <th>user_review</th>\n",
       "      <th>user_suggestion</th>\n",
       "    </tr>\n",
       "  </thead>\n",
       "  <tbody>\n",
       "    <tr>\n",
       "      <th>0</th>\n",
       "      <td>i'm scared and hearing creepy voices. so i'll ...</td>\n",
       "      <td>1</td>\n",
       "    </tr>\n",
       "    <tr>\n",
       "      <th>1</th>\n",
       "      <td>best game, more better than sam pepper's youtu...</td>\n",
       "      <td>1</td>\n",
       "    </tr>\n",
       "    <tr>\n",
       "      <th>2</th>\n",
       "      <td>a littly iffy on the controls, but once you kn...</td>\n",
       "      <td>1</td>\n",
       "    </tr>\n",
       "    <tr>\n",
       "      <th>3</th>\n",
       "      <td>great game, fun and colorful and all that.a si...</td>\n",
       "      <td>1</td>\n",
       "    </tr>\n",
       "    <tr>\n",
       "      <th>4</th>\n",
       "      <td>not many games have the cute tag right next to...</td>\n",
       "      <td>1</td>\n",
       "    </tr>\n",
       "    <tr>\n",
       "      <th>...</th>\n",
       "      <td>...</td>\n",
       "      <td>...</td>\n",
       "    </tr>\n",
       "    <tr>\n",
       "      <th>17484</th>\n",
       "      <td>arguably the single greatest mmorp that exists...</td>\n",
       "      <td>1</td>\n",
       "    </tr>\n",
       "    <tr>\n",
       "      <th>17485</th>\n",
       "      <td>an older game, to be sure, but has its own cha...</td>\n",
       "      <td>1</td>\n",
       "    </tr>\n",
       "    <tr>\n",
       "      <th>17486</th>\n",
       "      <td>when i frist started playing everquest it was ...</td>\n",
       "      <td>1</td>\n",
       "    </tr>\n",
       "    <tr>\n",
       "      <th>17487</th>\n",
       "      <td>cool game. the only thing that really pisses m...</td>\n",
       "      <td>1</td>\n",
       "    </tr>\n",
       "    <tr>\n",
       "      <th>17488</th>\n",
       "      <td>this game since i was a little kid, always hav...</td>\n",
       "      <td>1</td>\n",
       "    </tr>\n",
       "  </tbody>\n",
       "</table>\n",
       "<p>17476 rows × 2 columns</p>\n",
       "</div>"
      ],
      "text/plain": [
       "                                             user_review  user_suggestion\n",
       "0      i'm scared and hearing creepy voices. so i'll ...                1\n",
       "1      best game, more better than sam pepper's youtu...                1\n",
       "2      a littly iffy on the controls, but once you kn...                1\n",
       "3      great game, fun and colorful and all that.a si...                1\n",
       "4      not many games have the cute tag right next to...                1\n",
       "...                                                  ...              ...\n",
       "17484  arguably the single greatest mmorp that exists...                1\n",
       "17485  an older game, to be sure, but has its own cha...                1\n",
       "17486  when i frist started playing everquest it was ...                1\n",
       "17487  cool game. the only thing that really pisses m...                1\n",
       "17488  this game since i was a little kid, always hav...                1\n",
       "\n",
       "[17476 rows x 2 columns]"
      ]
     },
     "execution_count": 185,
     "metadata": {},
     "output_type": "execute_result"
    }
   ],
   "source": [
    "df_steam"
   ]
  },
  {
   "cell_type": "markdown",
   "id": "0a7ca5b3",
   "metadata": {},
   "source": [
    "## 2. Reddit review"
   ]
  },
  {
   "cell_type": "code",
   "execution_count": 186,
   "id": "76f59105",
   "metadata": {},
   "outputs": [],
   "source": [
    "df_reddit = pd.read_csv('raw_data/cleaned_comments.csv')"
   ]
  },
  {
   "cell_type": "code",
   "execution_count": 187,
   "id": "73e278fe",
   "metadata": {},
   "outputs": [
    {
     "data": {
      "text/html": [
       "<div>\n",
       "<style scoped>\n",
       "    .dataframe tbody tr th:only-of-type {\n",
       "        vertical-align: middle;\n",
       "    }\n",
       "\n",
       "    .dataframe tbody tr th {\n",
       "        vertical-align: top;\n",
       "    }\n",
       "\n",
       "    .dataframe thead th {\n",
       "        text-align: right;\n",
       "    }\n",
       "</style>\n",
       "<table border=\"1\" class=\"dataframe\">\n",
       "  <thead>\n",
       "    <tr style=\"text-align: right;\">\n",
       "      <th></th>\n",
       "      <th>Unnamed: 0</th>\n",
       "      <th>comment</th>\n",
       "      <th>sentiment</th>\n",
       "    </tr>\n",
       "  </thead>\n",
       "  <tbody>\n",
       "    <tr>\n",
       "      <th>0</th>\n",
       "      <td>0</td>\n",
       "      <td>dont think like game havent even played minute...</td>\n",
       "      <td>negative</td>\n",
       "    </tr>\n",
       "    <tr>\n",
       "      <th>1</th>\n",
       "      <td>1</td>\n",
       "      <td>leave farm smaller creature either wait help k...</td>\n",
       "      <td>negative</td>\n",
       "    </tr>\n",
       "    <tr>\n",
       "      <th>2</th>\n",
       "      <td>2</td>\n",
       "      <td>nothing beat feeling get see fall love like ye...</td>\n",
       "      <td>positive</td>\n",
       "    </tr>\n",
       "    <tr>\n",
       "      <th>3</th>\n",
       "      <td>3</td>\n",
       "      <td>also theyre made paper edit tried make gif fai...</td>\n",
       "      <td>negative</td>\n",
       "    </tr>\n",
       "    <tr>\n",
       "      <th>4</th>\n",
       "      <td>4</td>\n",
       "      <td>haha exactly brother tried get wow run raid ge...</td>\n",
       "      <td>positive</td>\n",
       "    </tr>\n",
       "    <tr>\n",
       "      <th>...</th>\n",
       "      <td>...</td>\n",
       "      <td>...</td>\n",
       "      <td>...</td>\n",
       "    </tr>\n",
       "    <tr>\n",
       "      <th>21816</th>\n",
       "      <td>23184</td>\n",
       "      <td>dont angry</td>\n",
       "      <td>positive</td>\n",
       "    </tr>\n",
       "    <tr>\n",
       "      <th>21817</th>\n",
       "      <td>23185</td>\n",
       "      <td>human free developed relationship esteemed fellow</td>\n",
       "      <td>positive</td>\n",
       "    </tr>\n",
       "    <tr>\n",
       "      <th>21818</th>\n",
       "      <td>23186</td>\n",
       "      <td>dont call shot around mister</td>\n",
       "      <td>neutral</td>\n",
       "    </tr>\n",
       "    <tr>\n",
       "      <th>21819</th>\n",
       "      <td>23187</td>\n",
       "      <td>sorry going edit beauty mark face</td>\n",
       "      <td>positive</td>\n",
       "    </tr>\n",
       "    <tr>\n",
       "      <th>21820</th>\n",
       "      <td>23188</td>\n",
       "      <td>haha put part face kept disappearing fixed</td>\n",
       "      <td>positive</td>\n",
       "    </tr>\n",
       "  </tbody>\n",
       "</table>\n",
       "<p>21821 rows × 3 columns</p>\n",
       "</div>"
      ],
      "text/plain": [
       "       Unnamed: 0                                            comment sentiment\n",
       "0               0  dont think like game havent even played minute...  negative\n",
       "1               1  leave farm smaller creature either wait help k...  negative\n",
       "2               2  nothing beat feeling get see fall love like ye...  positive\n",
       "3               3  also theyre made paper edit tried make gif fai...  negative\n",
       "4               4  haha exactly brother tried get wow run raid ge...  positive\n",
       "...           ...                                                ...       ...\n",
       "21816       23184                                         dont angry  positive\n",
       "21817       23185  human free developed relationship esteemed fellow  positive\n",
       "21818       23186                       dont call shot around mister   neutral\n",
       "21819       23187                  sorry going edit beauty mark face  positive\n",
       "21820       23188         haha put part face kept disappearing fixed  positive\n",
       "\n",
       "[21821 rows x 3 columns]"
      ]
     },
     "execution_count": 187,
     "metadata": {},
     "output_type": "execute_result"
    }
   ],
   "source": [
    "df_reddit"
   ]
  },
  {
   "cell_type": "markdown",
   "id": "f290d41f",
   "metadata": {},
   "source": [
    "Drop index column"
   ]
  },
  {
   "cell_type": "code",
   "execution_count": 188,
   "id": "96f643cc",
   "metadata": {},
   "outputs": [],
   "source": [
    "df_reddit = df_reddit.drop(df_reddit.columns[0], axis=1)"
   ]
  },
  {
   "cell_type": "markdown",
   "id": "82ec8b24",
   "metadata": {},
   "source": [
    "Eliminate neutral sentiment records"
   ]
  },
  {
   "cell_type": "code",
   "execution_count": 189,
   "id": "2bb43f8e",
   "metadata": {},
   "outputs": [],
   "source": [
    "df_reddit = df_reddit[df_reddit['sentiment'] != 'neutral']"
   ]
  },
  {
   "cell_type": "markdown",
   "id": "f2d602a8",
   "metadata": {},
   "source": [
    "Check missing values"
   ]
  },
  {
   "cell_type": "code",
   "execution_count": 190,
   "id": "47e0d2ea",
   "metadata": {},
   "outputs": [
    {
     "data": {
      "text/plain": [
       "comment      16\n",
       "sentiment     0\n",
       "dtype: int64"
      ]
     },
     "execution_count": 190,
     "metadata": {},
     "output_type": "execute_result"
    }
   ],
   "source": [
    "df_reddit.isna().sum()"
   ]
  },
  {
   "cell_type": "code",
   "execution_count": 191,
   "id": "09da2855",
   "metadata": {},
   "outputs": [],
   "source": [
    "df_reddit = df_reddit.dropna(subset='comment')"
   ]
  },
  {
   "cell_type": "markdown",
   "id": "37e0e018",
   "metadata": {},
   "source": [
    "Check duplicates"
   ]
  },
  {
   "cell_type": "code",
   "execution_count": 192,
   "id": "1a89e922",
   "metadata": {},
   "outputs": [
    {
     "data": {
      "text/plain": [
       "np.int64(396)"
      ]
     },
     "execution_count": 192,
     "metadata": {},
     "output_type": "execute_result"
    }
   ],
   "source": [
    "df_reddit.duplicated().sum()"
   ]
  },
  {
   "cell_type": "code",
   "execution_count": 193,
   "id": "84220b21",
   "metadata": {},
   "outputs": [],
   "source": [
    "df_reddit = df_reddit.drop_duplicates()"
   ]
  },
  {
   "cell_type": "markdown",
   "id": "1cdfcf36",
   "metadata": {},
   "source": [
    "Map sentiment column"
   ]
  },
  {
   "cell_type": "code",
   "execution_count": 194,
   "id": "f2b6b9a7",
   "metadata": {},
   "outputs": [],
   "source": [
    "df_reddit['sentiment'] = df_reddit['sentiment'].map({'positive': 1, 'negative': 0})"
   ]
  },
  {
   "cell_type": "markdown",
   "id": "8f2e17fa",
   "metadata": {},
   "source": [
    "Remove short text"
   ]
  },
  {
   "cell_type": "code",
   "execution_count": 195,
   "id": "145da4eb",
   "metadata": {},
   "outputs": [
    {
     "name": "stdout",
     "output_type": "stream",
     "text": [
      "Number of short content rows: 2148\n"
     ]
    }
   ],
   "source": [
    "short_content_count = df_reddit[df_reddit['comment'].str.len() <= 20].shape[0]\n",
    "print(f\"Number of short content rows: {short_content_count}\")"
   ]
  },
  {
   "cell_type": "code",
   "execution_count": 196,
   "id": "5c4baacf",
   "metadata": {},
   "outputs": [],
   "source": [
    "df_reddit = df_reddit[df_reddit['comment'].str.len() > 20] "
   ]
  },
  {
   "cell_type": "markdown",
   "id": "bd6eef2f",
   "metadata": {},
   "source": [
    "Rename columns"
   ]
  },
  {
   "cell_type": "code",
   "execution_count": 197,
   "id": "6c612848",
   "metadata": {},
   "outputs": [],
   "source": [
    "df_reddit = df_reddit.rename(columns={\n",
    "    'comment': 'user_review',\n",
    "    'sentiment': 'user_suggestion'\n",
    "})"
   ]
  },
  {
   "cell_type": "code",
   "execution_count": 198,
   "id": "9084b3eb",
   "metadata": {},
   "outputs": [
    {
     "data": {
      "text/html": [
       "<div>\n",
       "<style scoped>\n",
       "    .dataframe tbody tr th:only-of-type {\n",
       "        vertical-align: middle;\n",
       "    }\n",
       "\n",
       "    .dataframe tbody tr th {\n",
       "        vertical-align: top;\n",
       "    }\n",
       "\n",
       "    .dataframe thead th {\n",
       "        text-align: right;\n",
       "    }\n",
       "</style>\n",
       "<table border=\"1\" class=\"dataframe\">\n",
       "  <thead>\n",
       "    <tr style=\"text-align: right;\">\n",
       "      <th></th>\n",
       "      <th>user_review</th>\n",
       "      <th>user_suggestion</th>\n",
       "    </tr>\n",
       "  </thead>\n",
       "  <tbody>\n",
       "    <tr>\n",
       "      <th>0</th>\n",
       "      <td>dont think like game havent even played minute...</td>\n",
       "      <td>0</td>\n",
       "    </tr>\n",
       "    <tr>\n",
       "      <th>1</th>\n",
       "      <td>leave farm smaller creature either wait help k...</td>\n",
       "      <td>0</td>\n",
       "    </tr>\n",
       "    <tr>\n",
       "      <th>2</th>\n",
       "      <td>nothing beat feeling get see fall love like ye...</td>\n",
       "      <td>1</td>\n",
       "    </tr>\n",
       "    <tr>\n",
       "      <th>3</th>\n",
       "      <td>also theyre made paper edit tried make gif fai...</td>\n",
       "      <td>0</td>\n",
       "    </tr>\n",
       "    <tr>\n",
       "      <th>4</th>\n",
       "      <td>haha exactly brother tried get wow run raid ge...</td>\n",
       "      <td>1</td>\n",
       "    </tr>\n",
       "    <tr>\n",
       "      <th>...</th>\n",
       "      <td>...</td>\n",
       "      <td>...</td>\n",
       "    </tr>\n",
       "    <tr>\n",
       "      <th>21807</th>\n",
       "      <td>unless figure make face without dot edit give ...</td>\n",
       "      <td>0</td>\n",
       "    </tr>\n",
       "    <tr>\n",
       "      <th>21811</th>\n",
       "      <td>pa love child cousin equally jezzabell</td>\n",
       "      <td>1</td>\n",
       "    </tr>\n",
       "    <tr>\n",
       "      <th>21817</th>\n",
       "      <td>human free developed relationship esteemed fellow</td>\n",
       "      <td>1</td>\n",
       "    </tr>\n",
       "    <tr>\n",
       "      <th>21819</th>\n",
       "      <td>sorry going edit beauty mark face</td>\n",
       "      <td>1</td>\n",
       "    </tr>\n",
       "    <tr>\n",
       "      <th>21820</th>\n",
       "      <td>haha put part face kept disappearing fixed</td>\n",
       "      <td>1</td>\n",
       "    </tr>\n",
       "  </tbody>\n",
       "</table>\n",
       "<p>11248 rows × 2 columns</p>\n",
       "</div>"
      ],
      "text/plain": [
       "                                             user_review  user_suggestion\n",
       "0      dont think like game havent even played minute...                0\n",
       "1      leave farm smaller creature either wait help k...                0\n",
       "2      nothing beat feeling get see fall love like ye...                1\n",
       "3      also theyre made paper edit tried make gif fai...                0\n",
       "4      haha exactly brother tried get wow run raid ge...                1\n",
       "...                                                  ...              ...\n",
       "21807  unless figure make face without dot edit give ...                0\n",
       "21811             pa love child cousin equally jezzabell                1\n",
       "21817  human free developed relationship esteemed fellow                1\n",
       "21819                  sorry going edit beauty mark face                1\n",
       "21820         haha put part face kept disappearing fixed                1\n",
       "\n",
       "[11248 rows x 2 columns]"
      ]
     },
     "execution_count": 198,
     "metadata": {},
     "output_type": "execute_result"
    }
   ],
   "source": [
    "df_reddit"
   ]
  },
  {
   "cell_type": "markdown",
   "id": "01acc936",
   "metadata": {},
   "source": [
    "## 3. Main dataset"
   ]
  },
  {
   "cell_type": "code",
   "execution_count": 199,
   "id": "3644d78f",
   "metadata": {},
   "outputs": [],
   "source": [
    "df = pd.concat([df_steam, df_reddit], axis=0).reset_index(drop=True)"
   ]
  },
  {
   "cell_type": "code",
   "execution_count": 200,
   "id": "623d7e06",
   "metadata": {},
   "outputs": [
    {
     "data": {
      "text/html": [
       "<div>\n",
       "<style scoped>\n",
       "    .dataframe tbody tr th:only-of-type {\n",
       "        vertical-align: middle;\n",
       "    }\n",
       "\n",
       "    .dataframe tbody tr th {\n",
       "        vertical-align: top;\n",
       "    }\n",
       "\n",
       "    .dataframe thead th {\n",
       "        text-align: right;\n",
       "    }\n",
       "</style>\n",
       "<table border=\"1\" class=\"dataframe\">\n",
       "  <thead>\n",
       "    <tr style=\"text-align: right;\">\n",
       "      <th></th>\n",
       "      <th>user_review</th>\n",
       "      <th>user_suggestion</th>\n",
       "    </tr>\n",
       "  </thead>\n",
       "  <tbody>\n",
       "    <tr>\n",
       "      <th>0</th>\n",
       "      <td>i'm scared and hearing creepy voices. so i'll ...</td>\n",
       "      <td>1</td>\n",
       "    </tr>\n",
       "    <tr>\n",
       "      <th>1</th>\n",
       "      <td>best game, more better than sam pepper's youtu...</td>\n",
       "      <td>1</td>\n",
       "    </tr>\n",
       "    <tr>\n",
       "      <th>2</th>\n",
       "      <td>a littly iffy on the controls, but once you kn...</td>\n",
       "      <td>1</td>\n",
       "    </tr>\n",
       "    <tr>\n",
       "      <th>3</th>\n",
       "      <td>great game, fun and colorful and all that.a si...</td>\n",
       "      <td>1</td>\n",
       "    </tr>\n",
       "    <tr>\n",
       "      <th>4</th>\n",
       "      <td>not many games have the cute tag right next to...</td>\n",
       "      <td>1</td>\n",
       "    </tr>\n",
       "    <tr>\n",
       "      <th>...</th>\n",
       "      <td>...</td>\n",
       "      <td>...</td>\n",
       "    </tr>\n",
       "    <tr>\n",
       "      <th>28719</th>\n",
       "      <td>unless figure make face without dot edit give ...</td>\n",
       "      <td>0</td>\n",
       "    </tr>\n",
       "    <tr>\n",
       "      <th>28720</th>\n",
       "      <td>pa love child cousin equally jezzabell</td>\n",
       "      <td>1</td>\n",
       "    </tr>\n",
       "    <tr>\n",
       "      <th>28721</th>\n",
       "      <td>human free developed relationship esteemed fellow</td>\n",
       "      <td>1</td>\n",
       "    </tr>\n",
       "    <tr>\n",
       "      <th>28722</th>\n",
       "      <td>sorry going edit beauty mark face</td>\n",
       "      <td>1</td>\n",
       "    </tr>\n",
       "    <tr>\n",
       "      <th>28723</th>\n",
       "      <td>haha put part face kept disappearing fixed</td>\n",
       "      <td>1</td>\n",
       "    </tr>\n",
       "  </tbody>\n",
       "</table>\n",
       "<p>28724 rows × 2 columns</p>\n",
       "</div>"
      ],
      "text/plain": [
       "                                             user_review  user_suggestion\n",
       "0      i'm scared and hearing creepy voices. so i'll ...                1\n",
       "1      best game, more better than sam pepper's youtu...                1\n",
       "2      a littly iffy on the controls, but once you kn...                1\n",
       "3      great game, fun and colorful and all that.a si...                1\n",
       "4      not many games have the cute tag right next to...                1\n",
       "...                                                  ...              ...\n",
       "28719  unless figure make face without dot edit give ...                0\n",
       "28720             pa love child cousin equally jezzabell                1\n",
       "28721  human free developed relationship esteemed fellow                1\n",
       "28722                  sorry going edit beauty mark face                1\n",
       "28723         haha put part face kept disappearing fixed                1\n",
       "\n",
       "[28724 rows x 2 columns]"
      ]
     },
     "execution_count": 200,
     "metadata": {},
     "output_type": "execute_result"
    }
   ],
   "source": [
    "df"
   ]
  },
  {
   "cell_type": "code",
   "execution_count": 201,
   "id": "90e4da3c",
   "metadata": {},
   "outputs": [],
   "source": [
    "df.to_csv('review_preprocessed.csv')"
   ]
  },
  {
   "cell_type": "code",
   "execution_count": 202,
   "id": "8ae19a8c",
   "metadata": {},
   "outputs": [
    {
     "data": {
      "text/plain": [
       "user_suggestion\n",
       "1    17888\n",
       "0    10836\n",
       "Name: count, dtype: int64"
      ]
     },
     "execution_count": 202,
     "metadata": {},
     "output_type": "execute_result"
    }
   ],
   "source": [
    "df['user_suggestion'].value_counts()"
   ]
  },
  {
   "cell_type": "markdown",
   "id": "bce626cf",
   "metadata": {},
   "source": [
    "Split train + valid + test (8:1:1)"
   ]
  },
  {
   "cell_type": "code",
   "execution_count": 203,
   "id": "f4c20b58",
   "metadata": {},
   "outputs": [],
   "source": [
    "# First split: 80% train, 20% temp (val + test)\n",
    "train_df, temp_df = train_test_split(\n",
    "    df,\n",
    "    test_size=0.2,\n",
    "    random_state=42,\n",
    "    stratify=df['user_suggestion']  \n",
    ")\n",
    "\n",
    "# Second split: 10% val, 10% test (from the 20% temp)\n",
    "val_df, test_df = train_test_split(\n",
    "    temp_df,\n",
    "    test_size=0.5,\n",
    "    random_state=42,\n",
    "    stratify=temp_df['user_suggestion']\n",
    ")"
   ]
  },
  {
   "cell_type": "code",
   "execution_count": 204,
   "id": "b0bbac4a",
   "metadata": {},
   "outputs": [],
   "source": [
    "train_df.to_csv('train.csv')\n",
    "test_df.to_csv('test.csv')\n",
    "val_df.to_csv('val.csv')"
   ]
  }
 ],
 "metadata": {
  "kernelspec": {
   "display_name": "Python 3",
   "language": "python",
   "name": "python3"
  },
  "language_info": {
   "codemirror_mode": {
    "name": "ipython",
    "version": 3
   },
   "file_extension": ".py",
   "mimetype": "text/x-python",
   "name": "python",
   "nbconvert_exporter": "python",
   "pygments_lexer": "ipython3",
   "version": "3.11.9"
  }
 },
 "nbformat": 4,
 "nbformat_minor": 5
}
