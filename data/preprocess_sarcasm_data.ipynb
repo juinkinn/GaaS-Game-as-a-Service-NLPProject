{
 "cells": [
  {
   "cell_type": "code",
   "execution_count": 21,
   "id": "a0ea3d70",
   "metadata": {},
   "outputs": [],
   "source": [
    "import pandas as pd\n",
    "import re\n",
    "import emoji\n",
    "import unicodedata"
   ]
  },
  {
   "cell_type": "code",
   "execution_count": null,
   "id": "7118be29",
   "metadata": {},
   "outputs": [],
   "source": [
    "chunk1 = pd.read_csv('raw_data/train-balanced-sarcasm_chunk1.csv')\n",
    "chunk2 = pd.read_csv('raw_data/train-balanced-sarcasm_chunk2.csv')\n",
    "chunk3 = pd.read_csv('raw_data/train-balanced-sarcasm_chunk3.csv')\n",
    "chunk4 = pd.read_csv('raw_data/train-balanced-sarcasm_chunk4.csv')\n",
    "chunk5 = pd.read_csv('raw_data/train-balanced-sarcasm_chunk5.csv')\n",
    "chunk6 = pd.read_csv('raw_data/train-balanced-sarcasm_chunk6.csv')\n",
    "\n",
    "df = pd.concat([chunk1, chunk2, chunk3, chunk4, chunk5, chunk6], ignore_index=True)\n"
   ]
  },
  {
   "cell_type": "markdown",
   "id": "325a8f3f",
   "metadata": {},
   "source": [
    "Filter only sarcasm comment and long text"
   ]
  },
  {
   "cell_type": "code",
   "execution_count": 23,
   "id": "51be7fb5",
   "metadata": {},
   "outputs": [],
   "source": [
    "df = df[df['label'] == 1]\n",
    "df = df[df['comment'].str.len() > 30]"
   ]
  },
  {
   "cell_type": "markdown",
   "id": "39e77dc3",
   "metadata": {},
   "source": [
    "Filter game comments"
   ]
  },
  {
   "cell_type": "code",
   "execution_count": 24,
   "id": "882ae3c0",
   "metadata": {},
   "outputs": [],
   "source": [
    "game_subreddits = [\n",
    "    'gaming', 'pcgaming', 'games', 'leagueoflegends', 'Overwatch',\n",
    "    'GlobalOffensive', 'FortNiteBR', 'PS4', 'xboxone', 'wow', 'nintendo', 'Minecraft'\n",
    "]\n",
    "\n",
    "df_game = df[df['subreddit'].isin(game_subreddits)]"
   ]
  },
  {
   "cell_type": "markdown",
   "id": "7c9830ee",
   "metadata": {},
   "source": [
    "Select only ```comment``` column"
   ]
  },
  {
   "cell_type": "code",
   "execution_count": 25,
   "id": "1f80f2a4",
   "metadata": {},
   "outputs": [],
   "source": [
    "df_game = df_game[['comment']]"
   ]
  },
  {
   "cell_type": "markdown",
   "id": "ebfab5f9",
   "metadata": {},
   "source": [
    "Handle duplicates"
   ]
  },
  {
   "cell_type": "code",
   "execution_count": 26,
   "id": "76450d60",
   "metadata": {},
   "outputs": [
    {
     "data": {
      "text/plain": [
       "np.int64(27)"
      ]
     },
     "execution_count": 26,
     "metadata": {},
     "output_type": "execute_result"
    }
   ],
   "source": [
    "df_game.duplicated().sum()"
   ]
  },
  {
   "cell_type": "code",
   "execution_count": 27,
   "id": "125052d2",
   "metadata": {},
   "outputs": [],
   "source": [
    "df_game = df_game.drop_duplicates()"
   ]
  },
  {
   "cell_type": "markdown",
   "id": "a1f6cc48",
   "metadata": {},
   "source": [
    "Check missing"
   ]
  },
  {
   "cell_type": "code",
   "execution_count": 28,
   "id": "b23de2a8",
   "metadata": {},
   "outputs": [
    {
     "data": {
      "text/plain": [
       "comment    0\n",
       "dtype: int64"
      ]
     },
     "execution_count": 28,
     "metadata": {},
     "output_type": "execute_result"
    }
   ],
   "source": [
    "df_game.isna().sum()"
   ]
  },
  {
   "cell_type": "markdown",
   "id": "6e871cf8",
   "metadata": {},
   "source": [
    "Normalize text"
   ]
  },
  {
   "cell_type": "code",
   "execution_count": 29,
   "id": "60e19a89",
   "metadata": {},
   "outputs": [],
   "source": [
    "def normalize_text(text):\n",
    "    text = text.lower()  # lowercase\n",
    "\n",
    "    # remove 'early access review' at the beginning\n",
    "    text = re.sub(r\"^(early access review[\\s:\\-–—)]*)\", \"\", text, flags=re.IGNORECASE)\n",
    "\n",
    "    # remove URLs, mentions, hashtags\n",
    "    text = re.sub(r\"http\\S+\", \"\", text)\n",
    "    text = re.sub(r\"@\\w+\", \"\", text)\n",
    "    text = re.sub(r\"#\\w+\", \"\", text)\n",
    "\n",
    "    # remove numbers\n",
    "    text = re.sub(r\"\\d+\", \"\", text)\n",
    "\n",
    "    # remove emojis and icons\n",
    "    text = emoji.replace_emoji(text, replace='')\n",
    "\n",
    "    # Remove spam patterns: no more than 3 consecutive identical characters\n",
    "    # e.g., \"goooood\" → \"good\", \"aaaaawesome\" → \"awesome\"\n",
    "    text = re.sub(r'(.)\\1{3,}', r'\\1\\1\\1', text)  # Keep up to 3 repeats\n",
    "    \n",
    "    # remove non-printable or control characters + double quotes\n",
    "    text = ''.join(\n",
    "        c for c in text \n",
    "        if unicodedata.category(c)[0] != 'C' and c.isprintable() and c != '\"'\n",
    "    )\n",
    "\n",
    "    # normalize whitespace\n",
    "    text = re.sub(r\"\\s+\", \" \", text)\n",
    "\n",
    "    # remove duplicate consecutive words\n",
    "    text = re.sub(r'\\b(\\w+)( \\1\\b)+', r'\\1', text)\n",
    "\n",
    "    # keep only ASCII characters (English text only)\n",
    "    text = text.encode(\"ascii\", \"ignore\").decode()\n",
    "\n",
    "    return text.strip()\n",
    "\n",
    "# Apply to the DataFrame\n",
    "df_game['comment'] = df_game['comment'].apply(normalize_text)"
   ]
  },
  {
   "cell_type": "code",
   "execution_count": 30,
   "id": "fad08ee4",
   "metadata": {},
   "outputs": [
    {
     "data": {
      "text/html": [
       "<div>\n",
       "<style scoped>\n",
       "    .dataframe tbody tr th:only-of-type {\n",
       "        vertical-align: middle;\n",
       "    }\n",
       "\n",
       "    .dataframe tbody tr th {\n",
       "        vertical-align: top;\n",
       "    }\n",
       "\n",
       "    .dataframe thead th {\n",
       "        text-align: right;\n",
       "    }\n",
       "</style>\n",
       "<table border=\"1\" class=\"dataframe\">\n",
       "  <thead>\n",
       "    <tr style=\"text-align: right;\">\n",
       "      <th></th>\n",
       "      <th>comment</th>\n",
       "    </tr>\n",
       "  </thead>\n",
       "  <tbody>\n",
       "    <tr>\n",
       "      <th>278</th>\n",
       "      <td>no, galio stacks magic resistance but ryze dea...</td>\n",
       "    </tr>\n",
       "    <tr>\n",
       "      <th>508</th>\n",
       "      <td>yea cause kobbe was so much better</td>\n",
       "    </tr>\n",
       "    <tr>\n",
       "      <th>948</th>\n",
       "      <td>you know, if i were a pro, i'd practice hours ...</td>\n",
       "    </tr>\n",
       "    <tr>\n",
       "      <th>985</th>\n",
       "      <td>you're probably not druid master race.</td>\n",
       "    </tr>\n",
       "    <tr>\n",
       "      <th>1090</th>\n",
       "      <td>oh, well in that case... make fun of him all y...</td>\n",
       "    </tr>\n",
       "    <tr>\n",
       "      <th>...</th>\n",
       "      <td>...</td>\n",
       "    </tr>\n",
       "    <tr>\n",
       "      <th>1010475</th>\n",
       "      <td>yeah, but you had to spend all your money to u...</td>\n",
       "    </tr>\n",
       "    <tr>\n",
       "      <th>1010525</th>\n",
       "      <td>mario gets sent to hell for being a godless he...</td>\n",
       "    </tr>\n",
       "    <tr>\n",
       "      <th>1010611</th>\n",
       "      <td>wow i bet that was a culture shock when he moved</td>\n",
       "    </tr>\n",
       "    <tr>\n",
       "      <th>1010723</th>\n",
       "      <td>that could be.. we all know that it's impossib...</td>\n",
       "    </tr>\n",
       "    <tr>\n",
       "      <th>1010818</th>\n",
       "      <td>oh sweet another guitar hero clone</td>\n",
       "    </tr>\n",
       "  </tbody>\n",
       "</table>\n",
       "<p>23244 rows × 1 columns</p>\n",
       "</div>"
      ],
      "text/plain": [
       "                                                   comment\n",
       "278      no, galio stacks magic resistance but ryze dea...\n",
       "508                     yea cause kobbe was so much better\n",
       "948      you know, if i were a pro, i'd practice hours ...\n",
       "985                 you're probably not druid master race.\n",
       "1090     oh, well in that case... make fun of him all y...\n",
       "...                                                    ...\n",
       "1010475  yeah, but you had to spend all your money to u...\n",
       "1010525  mario gets sent to hell for being a godless he...\n",
       "1010611   wow i bet that was a culture shock when he moved\n",
       "1010723  that could be.. we all know that it's impossib...\n",
       "1010818                 oh sweet another guitar hero clone\n",
       "\n",
       "[23244 rows x 1 columns]"
      ]
     },
     "execution_count": 30,
     "metadata": {},
     "output_type": "execute_result"
    }
   ],
   "source": [
    "df_game"
   ]
  }
 ],
 "metadata": {
  "kernelspec": {
   "display_name": "Python 3",
   "language": "python",
   "name": "python3"
  },
  "language_info": {
   "codemirror_mode": {
    "name": "ipython",
    "version": 3
   },
   "file_extension": ".py",
   "mimetype": "text/x-python",
   "name": "python",
   "nbconvert_exporter": "python",
   "pygments_lexer": "ipython3",
   "version": "3.11.9"
  }
 },
 "nbformat": 4,
 "nbformat_minor": 5
}
