{
 "cells": [
  {
   "cell_type": "markdown",
   "id": "d9f59632",
   "metadata": {},
   "source": [
    "# Preprocess data"
   ]
  },
  {
   "cell_type": "code",
   "execution_count": 1,
   "id": "53d2564d",
   "metadata": {},
   "outputs": [],
   "source": [
    "import pandas as pd\n",
    "import re\n",
    "from sklearn.model_selection import train_test_split\n",
    "import emoji\n",
    "import unicodedata"
   ]
  },
  {
   "cell_type": "markdown",
   "id": "2da3a3d6",
   "metadata": {},
   "source": [
    "## 1. Steam review"
   ]
  },
  {
   "cell_type": "code",
   "execution_count": 2,
   "id": "cd4119db",
   "metadata": {},
   "outputs": [],
   "source": [
    "df_steam = pd.read_csv('raw_data/train.csv')"
   ]
  },
  {
   "cell_type": "code",
   "execution_count": 3,
   "id": "ea3d91df",
   "metadata": {},
   "outputs": [
    {
     "data": {
      "text/html": [
       "<div>\n",
       "<style scoped>\n",
       "    .dataframe tbody tr th:only-of-type {\n",
       "        vertical-align: middle;\n",
       "    }\n",
       "\n",
       "    .dataframe tbody tr th {\n",
       "        vertical-align: top;\n",
       "    }\n",
       "\n",
       "    .dataframe thead th {\n",
       "        text-align: right;\n",
       "    }\n",
       "</style>\n",
       "<table border=\"1\" class=\"dataframe\">\n",
       "  <thead>\n",
       "    <tr style=\"text-align: right;\">\n",
       "      <th></th>\n",
       "      <th>review_id</th>\n",
       "      <th>title</th>\n",
       "      <th>year</th>\n",
       "      <th>user_review</th>\n",
       "      <th>user_suggestion</th>\n",
       "    </tr>\n",
       "  </thead>\n",
       "  <tbody>\n",
       "    <tr>\n",
       "      <th>0</th>\n",
       "      <td>1</td>\n",
       "      <td>Spooky's Jump Scare Mansion</td>\n",
       "      <td>2016.0</td>\n",
       "      <td>I'm scared and hearing creepy voices.  So I'll...</td>\n",
       "      <td>1</td>\n",
       "    </tr>\n",
       "    <tr>\n",
       "      <th>1</th>\n",
       "      <td>2</td>\n",
       "      <td>Spooky's Jump Scare Mansion</td>\n",
       "      <td>2016.0</td>\n",
       "      <td>Best game, more better than Sam Pepper's YouTu...</td>\n",
       "      <td>1</td>\n",
       "    </tr>\n",
       "    <tr>\n",
       "      <th>2</th>\n",
       "      <td>3</td>\n",
       "      <td>Spooky's Jump Scare Mansion</td>\n",
       "      <td>2016.0</td>\n",
       "      <td>A littly iffy on the controls, but once you kn...</td>\n",
       "      <td>1</td>\n",
       "    </tr>\n",
       "    <tr>\n",
       "      <th>3</th>\n",
       "      <td>4</td>\n",
       "      <td>Spooky's Jump Scare Mansion</td>\n",
       "      <td>2015.0</td>\n",
       "      <td>Great game, fun and colorful and all that.A si...</td>\n",
       "      <td>1</td>\n",
       "    </tr>\n",
       "    <tr>\n",
       "      <th>4</th>\n",
       "      <td>5</td>\n",
       "      <td>Spooky's Jump Scare Mansion</td>\n",
       "      <td>2015.0</td>\n",
       "      <td>Not many games have the cute tag right next to...</td>\n",
       "      <td>1</td>\n",
       "    </tr>\n",
       "    <tr>\n",
       "      <th>...</th>\n",
       "      <td>...</td>\n",
       "      <td>...</td>\n",
       "      <td>...</td>\n",
       "      <td>...</td>\n",
       "      <td>...</td>\n",
       "    </tr>\n",
       "    <tr>\n",
       "      <th>17489</th>\n",
       "      <td>25535</td>\n",
       "      <td>EverQuest II</td>\n",
       "      <td>2012.0</td>\n",
       "      <td>Arguably the single greatest mmorp that exists...</td>\n",
       "      <td>1</td>\n",
       "    </tr>\n",
       "    <tr>\n",
       "      <th>17490</th>\n",
       "      <td>25536</td>\n",
       "      <td>EverQuest II</td>\n",
       "      <td>2017.0</td>\n",
       "      <td>An older game, to be sure, but has its own cha...</td>\n",
       "      <td>1</td>\n",
       "    </tr>\n",
       "    <tr>\n",
       "      <th>17491</th>\n",
       "      <td>25537</td>\n",
       "      <td>EverQuest II</td>\n",
       "      <td>2011.0</td>\n",
       "      <td>When I frist started playing Everquest 2 it wa...</td>\n",
       "      <td>1</td>\n",
       "    </tr>\n",
       "    <tr>\n",
       "      <th>17492</th>\n",
       "      <td>25538</td>\n",
       "      <td>EverQuest II</td>\n",
       "      <td>NaN</td>\n",
       "      <td>cool game. THe only thing that REALLY PISSES M...</td>\n",
       "      <td>1</td>\n",
       "    </tr>\n",
       "    <tr>\n",
       "      <th>17493</th>\n",
       "      <td>25539</td>\n",
       "      <td>EverQuest II</td>\n",
       "      <td>NaN</td>\n",
       "      <td>this game since I was a little kid, always hav...</td>\n",
       "      <td>1</td>\n",
       "    </tr>\n",
       "  </tbody>\n",
       "</table>\n",
       "<p>17494 rows × 5 columns</p>\n",
       "</div>"
      ],
      "text/plain": [
       "       review_id                        title    year  \\\n",
       "0              1  Spooky's Jump Scare Mansion  2016.0   \n",
       "1              2  Spooky's Jump Scare Mansion  2016.0   \n",
       "2              3  Spooky's Jump Scare Mansion  2016.0   \n",
       "3              4  Spooky's Jump Scare Mansion  2015.0   \n",
       "4              5  Spooky's Jump Scare Mansion  2015.0   \n",
       "...          ...                          ...     ...   \n",
       "17489      25535                 EverQuest II  2012.0   \n",
       "17490      25536                 EverQuest II  2017.0   \n",
       "17491      25537                 EverQuest II  2011.0   \n",
       "17492      25538                 EverQuest II     NaN   \n",
       "17493      25539                 EverQuest II     NaN   \n",
       "\n",
       "                                             user_review  user_suggestion  \n",
       "0      I'm scared and hearing creepy voices.  So I'll...                1  \n",
       "1      Best game, more better than Sam Pepper's YouTu...                1  \n",
       "2      A littly iffy on the controls, but once you kn...                1  \n",
       "3      Great game, fun and colorful and all that.A si...                1  \n",
       "4      Not many games have the cute tag right next to...                1  \n",
       "...                                                  ...              ...  \n",
       "17489  Arguably the single greatest mmorp that exists...                1  \n",
       "17490  An older game, to be sure, but has its own cha...                1  \n",
       "17491  When I frist started playing Everquest 2 it wa...                1  \n",
       "17492  cool game. THe only thing that REALLY PISSES M...                1  \n",
       "17493  this game since I was a little kid, always hav...                1  \n",
       "\n",
       "[17494 rows x 5 columns]"
      ]
     },
     "execution_count": 3,
     "metadata": {},
     "output_type": "execute_result"
    }
   ],
   "source": [
    "df_steam"
   ]
  },
  {
   "cell_type": "markdown",
   "id": "1966e480",
   "metadata": {},
   "source": [
    "Drop unnecessary columns"
   ]
  },
  {
   "cell_type": "code",
   "execution_count": 4,
   "id": "2df0a0c0",
   "metadata": {},
   "outputs": [],
   "source": [
    "df_steam = df_steam.drop(columns=['review_id', 'title', 'year'])"
   ]
  },
  {
   "cell_type": "markdown",
   "id": "a50b12cb",
   "metadata": {},
   "source": [
    "Check missing values"
   ]
  },
  {
   "cell_type": "code",
   "execution_count": 5,
   "id": "b36990ec",
   "metadata": {},
   "outputs": [
    {
     "data": {
      "text/plain": [
       "user_review        0\n",
       "user_suggestion    0\n",
       "dtype: int64"
      ]
     },
     "execution_count": 5,
     "metadata": {},
     "output_type": "execute_result"
    }
   ],
   "source": [
    "df_steam.isna().sum()"
   ]
  },
  {
   "cell_type": "markdown",
   "id": "78ed30dd",
   "metadata": {},
   "source": [
    "Check duplicates"
   ]
  },
  {
   "cell_type": "code",
   "execution_count": 6,
   "id": "fefe8a3b",
   "metadata": {},
   "outputs": [
    {
     "data": {
      "text/plain": [
       "3"
      ]
     },
     "execution_count": 6,
     "metadata": {},
     "output_type": "execute_result"
    }
   ],
   "source": [
    "df_steam.duplicated().sum()"
   ]
  },
  {
   "cell_type": "code",
   "execution_count": 7,
   "id": "83d7198c",
   "metadata": {},
   "outputs": [],
   "source": [
    "df_steam = df_steam.drop_duplicates()"
   ]
  },
  {
   "cell_type": "code",
   "execution_count": 8,
   "id": "3ffdf2d2",
   "metadata": {},
   "outputs": [
    {
     "data": {
      "text/plain": [
       "user_suggestion\n",
       "1    9967\n",
       "0    7524\n",
       "Name: count, dtype: int64"
      ]
     },
     "execution_count": 8,
     "metadata": {},
     "output_type": "execute_result"
    }
   ],
   "source": [
    "df_steam['user_suggestion'].value_counts()"
   ]
  },
  {
   "cell_type": "markdown",
   "id": "3802e0d5",
   "metadata": {},
   "source": [
    "Normalize text"
   ]
  },
  {
   "cell_type": "code",
   "execution_count": 9,
   "id": "1a295560",
   "metadata": {},
   "outputs": [],
   "source": [
    "def normalize_text(text):\n",
    "    text = text.lower()  # lowercase\n",
    "\n",
    "    # remove 'early access review' at the beginning\n",
    "    text = re.sub(r\"^(early access review[\\s:\\-–—)]*)\", \"\", text, flags=re.IGNORECASE)\n",
    "\n",
    "    # remove URLs, mentions, hashtags\n",
    "    text = re.sub(r\"http\\S+\", \"\", text)\n",
    "    text = re.sub(r\"@\\w+\", \"\", text)\n",
    "    text = re.sub(r\"#\\w+\", \"\", text)\n",
    "\n",
    "    # remove numbers\n",
    "    #text = re.sub(r\"\\d+\", \"\", text)\n",
    "\n",
    "    # remove emojis and icons\n",
    "    text = emoji.replace_emoji(text, replace='')\n",
    "\n",
    "    # Remove spam patterns: no more than 3 consecutive identical characters\n",
    "    # e.g., \"goooood\" → \"good\", \"aaaaawesome\" → \"awesome\"\n",
    "    text = re.sub(r'(.)\\1{3,}', r'\\1\\1\\1', text)  # Keep up to 3 repeats\n",
    "    \n",
    "    # remove non-printable or control characters + double quotes\n",
    "    text = ''.join(\n",
    "        c for c in text \n",
    "        if unicodedata.category(c)[0] != 'C' and c.isprintable() and c != '\"'\n",
    "    )\n",
    "\n",
    "    # normalize whitespace\n",
    "    text = re.sub(r\"\\s+\", \" \", text)\n",
    "\n",
    "    # remove duplicate consecutive words\n",
    "    text = re.sub(r'\\b(\\w+)( \\1\\b)+', r'\\1', text)\n",
    "\n",
    "    # keep only ASCII characters (English text only)\n",
    "    text = text.encode(\"ascii\", \"ignore\").decode()\n",
    "\n",
    "    return text.strip()\n",
    "\n",
    "# Apply to the DataFrame\n",
    "df_steam['user_review'] = df_steam['user_review'].apply(normalize_text)"
   ]
  },
  {
   "cell_type": "markdown",
   "id": "d55163be",
   "metadata": {},
   "source": [
    "Eliminate row with whitespace"
   ]
  },
  {
   "cell_type": "code",
   "execution_count": 10,
   "id": "e6346e0e",
   "metadata": {},
   "outputs": [
    {
     "name": "stdout",
     "output_type": "stream",
     "text": [
      "Number of empty or whitespace-only user_review rows: 12\n"
     ]
    }
   ],
   "source": [
    "empty_review_mask = df_steam['user_review'].astype(str).str.strip() == ''\n",
    "print(f\"Number of empty or whitespace-only user_review rows: {empty_review_mask.sum()}\")"
   ]
  },
  {
   "cell_type": "code",
   "execution_count": 11,
   "id": "9e0b9ab5",
   "metadata": {},
   "outputs": [],
   "source": [
    "df_steam = df_steam[~empty_review_mask].reset_index(drop=True)"
   ]
  },
  {
   "cell_type": "markdown",
   "id": "98054059",
   "metadata": {},
   "source": [
    "Remove short text"
   ]
  },
  {
   "cell_type": "code",
   "execution_count": 12,
   "id": "6ac038a4",
   "metadata": {},
   "outputs": [
    {
     "name": "stdout",
     "output_type": "stream",
     "text": [
      "Number of short content rows: 33\n"
     ]
    }
   ],
   "source": [
    "short_content_count = df_steam[df_steam['user_review'].str.len() <= 20].shape[0]\n",
    "print(f\"Number of short content rows: {short_content_count}\")"
   ]
  },
  {
   "cell_type": "code",
   "execution_count": 13,
   "id": "179fe5d7",
   "metadata": {},
   "outputs": [],
   "source": [
    "df_steam = df_steam[df_steam['user_review'].str.len() > 20] "
   ]
  },
  {
   "cell_type": "code",
   "execution_count": 14,
   "id": "20dd3b55",
   "metadata": {},
   "outputs": [
    {
     "data": {
      "text/html": [
       "<div>\n",
       "<style scoped>\n",
       "    .dataframe tbody tr th:only-of-type {\n",
       "        vertical-align: middle;\n",
       "    }\n",
       "\n",
       "    .dataframe tbody tr th {\n",
       "        vertical-align: top;\n",
       "    }\n",
       "\n",
       "    .dataframe thead th {\n",
       "        text-align: right;\n",
       "    }\n",
       "</style>\n",
       "<table border=\"1\" class=\"dataframe\">\n",
       "  <thead>\n",
       "    <tr style=\"text-align: right;\">\n",
       "      <th></th>\n",
       "      <th>user_review</th>\n",
       "      <th>user_suggestion</th>\n",
       "    </tr>\n",
       "  </thead>\n",
       "  <tbody>\n",
       "    <tr>\n",
       "      <th>0</th>\n",
       "      <td>i'm scared and hearing creepy voices. so i'll ...</td>\n",
       "      <td>1</td>\n",
       "    </tr>\n",
       "    <tr>\n",
       "      <th>1</th>\n",
       "      <td>best game, more better than sam pepper's youtu...</td>\n",
       "      <td>1</td>\n",
       "    </tr>\n",
       "    <tr>\n",
       "      <th>2</th>\n",
       "      <td>a littly iffy on the controls, but once you kn...</td>\n",
       "      <td>1</td>\n",
       "    </tr>\n",
       "    <tr>\n",
       "      <th>3</th>\n",
       "      <td>great game, fun and colorful and all that.a si...</td>\n",
       "      <td>1</td>\n",
       "    </tr>\n",
       "    <tr>\n",
       "      <th>4</th>\n",
       "      <td>not many games have the cute tag right next to...</td>\n",
       "      <td>1</td>\n",
       "    </tr>\n",
       "    <tr>\n",
       "      <th>...</th>\n",
       "      <td>...</td>\n",
       "      <td>...</td>\n",
       "    </tr>\n",
       "    <tr>\n",
       "      <th>17474</th>\n",
       "      <td>arguably the single greatest mmorp that exists...</td>\n",
       "      <td>1</td>\n",
       "    </tr>\n",
       "    <tr>\n",
       "      <th>17475</th>\n",
       "      <td>an older game, to be sure, but has its own cha...</td>\n",
       "      <td>1</td>\n",
       "    </tr>\n",
       "    <tr>\n",
       "      <th>17476</th>\n",
       "      <td>when i frist started playing everquest 2 it wa...</td>\n",
       "      <td>1</td>\n",
       "    </tr>\n",
       "    <tr>\n",
       "      <th>17477</th>\n",
       "      <td>cool game. the only thing that really pisses m...</td>\n",
       "      <td>1</td>\n",
       "    </tr>\n",
       "    <tr>\n",
       "      <th>17478</th>\n",
       "      <td>this game since i was a little kid, always hav...</td>\n",
       "      <td>1</td>\n",
       "    </tr>\n",
       "  </tbody>\n",
       "</table>\n",
       "<p>17446 rows × 2 columns</p>\n",
       "</div>"
      ],
      "text/plain": [
       "                                             user_review  user_suggestion\n",
       "0      i'm scared and hearing creepy voices. so i'll ...                1\n",
       "1      best game, more better than sam pepper's youtu...                1\n",
       "2      a littly iffy on the controls, but once you kn...                1\n",
       "3      great game, fun and colorful and all that.a si...                1\n",
       "4      not many games have the cute tag right next to...                1\n",
       "...                                                  ...              ...\n",
       "17474  arguably the single greatest mmorp that exists...                1\n",
       "17475  an older game, to be sure, but has its own cha...                1\n",
       "17476  when i frist started playing everquest 2 it wa...                1\n",
       "17477  cool game. the only thing that really pisses m...                1\n",
       "17478  this game since i was a little kid, always hav...                1\n",
       "\n",
       "[17446 rows x 2 columns]"
      ]
     },
     "execution_count": 14,
     "metadata": {},
     "output_type": "execute_result"
    }
   ],
   "source": [
    "df_steam"
   ]
  },
  {
   "cell_type": "markdown",
   "id": "0a7ca5b3",
   "metadata": {},
   "source": [
    "## 2. Reddit review"
   ]
  },
  {
   "cell_type": "code",
   "execution_count": 15,
   "id": "76f59105",
   "metadata": {},
   "outputs": [],
   "source": [
    "df_reddit = pd.read_csv('raw_data/23k_r_gaming_comments_sentiments.csv')"
   ]
  },
  {
   "cell_type": "code",
   "execution_count": 16,
   "id": "73e278fe",
   "metadata": {},
   "outputs": [
    {
     "data": {
      "text/html": [
       "<div>\n",
       "<style scoped>\n",
       "    .dataframe tbody tr th:only-of-type {\n",
       "        vertical-align: middle;\n",
       "    }\n",
       "\n",
       "    .dataframe tbody tr th {\n",
       "        vertical-align: top;\n",
       "    }\n",
       "\n",
       "    .dataframe thead th {\n",
       "        text-align: right;\n",
       "    }\n",
       "</style>\n",
       "<table border=\"1\" class=\"dataframe\">\n",
       "  <thead>\n",
       "    <tr style=\"text-align: right;\">\n",
       "      <th></th>\n",
       "      <th>Unnamed: 0</th>\n",
       "      <th>Comment</th>\n",
       "      <th>sentiment</th>\n",
       "    </tr>\n",
       "  </thead>\n",
       "  <tbody>\n",
       "    <tr>\n",
       "      <th>0</th>\n",
       "      <td>0</td>\n",
       "      <td>Them: I don't think I like this game.\\n\\nMe: B...</td>\n",
       "      <td>negative</td>\n",
       "    </tr>\n",
       "    <tr>\n",
       "      <th>1</th>\n",
       "      <td>1</td>\n",
       "      <td>Then you leave them to farm the smaller creatu...</td>\n",
       "      <td>negative</td>\n",
       "    </tr>\n",
       "    <tr>\n",
       "      <th>2</th>\n",
       "      <td>2</td>\n",
       "      <td>Nothing beats the feeling you get when you see...</td>\n",
       "      <td>positive</td>\n",
       "    </tr>\n",
       "    <tr>\n",
       "      <th>3</th>\n",
       "      <td>3</td>\n",
       "      <td>[Also, they're made of paper](https://i.imgur....</td>\n",
       "      <td>negative</td>\n",
       "    </tr>\n",
       "    <tr>\n",
       "      <th>4</th>\n",
       "      <td>4</td>\n",
       "      <td>Haha... That was exactly it when my brother tr...</td>\n",
       "      <td>positive</td>\n",
       "    </tr>\n",
       "    <tr>\n",
       "      <th>...</th>\n",
       "      <td>...</td>\n",
       "      <td>...</td>\n",
       "      <td>...</td>\n",
       "    </tr>\n",
       "    <tr>\n",
       "      <th>23184</th>\n",
       "      <td>23184</td>\n",
       "      <td>Don't be angry.</td>\n",
       "      <td>positive</td>\n",
       "    </tr>\n",
       "    <tr>\n",
       "      <th>23185</th>\n",
       "      <td>23185</td>\n",
       "      <td>Myself, a human being of my own free will, has...</td>\n",
       "      <td>positive</td>\n",
       "    </tr>\n",
       "    <tr>\n",
       "      <th>23186</th>\n",
       "      <td>23186</td>\n",
       "      <td>YOU DONT CALL THE SHOTS AROUND HERE MISTER</td>\n",
       "      <td>neutral</td>\n",
       "    </tr>\n",
       "    <tr>\n",
       "      <th>23187</th>\n",
       "      <td>23187</td>\n",
       "      <td>Sorry, but are you going to [edit](https://www...</td>\n",
       "      <td>positive</td>\n",
       "    </tr>\n",
       "    <tr>\n",
       "      <th>23188</th>\n",
       "      <td>23188</td>\n",
       "      <td>Haha I had to put it there because a part of t...</td>\n",
       "      <td>positive</td>\n",
       "    </tr>\n",
       "  </tbody>\n",
       "</table>\n",
       "<p>23189 rows × 3 columns</p>\n",
       "</div>"
      ],
      "text/plain": [
       "       Unnamed: 0                                            Comment sentiment\n",
       "0               0  Them: I don't think I like this game.\\n\\nMe: B...  negative\n",
       "1               1  Then you leave them to farm the smaller creatu...  negative\n",
       "2               2  Nothing beats the feeling you get when you see...  positive\n",
       "3               3  [Also, they're made of paper](https://i.imgur....  negative\n",
       "4               4  Haha... That was exactly it when my brother tr...  positive\n",
       "...           ...                                                ...       ...\n",
       "23184       23184                                    Don't be angry.  positive\n",
       "23185       23185  Myself, a human being of my own free will, has...  positive\n",
       "23186       23186         YOU DONT CALL THE SHOTS AROUND HERE MISTER   neutral\n",
       "23187       23187  Sorry, but are you going to [edit](https://www...  positive\n",
       "23188       23188  Haha I had to put it there because a part of t...  positive\n",
       "\n",
       "[23189 rows x 3 columns]"
      ]
     },
     "execution_count": 16,
     "metadata": {},
     "output_type": "execute_result"
    }
   ],
   "source": [
    "df_reddit"
   ]
  },
  {
   "cell_type": "markdown",
   "id": "f290d41f",
   "metadata": {},
   "source": [
    "Drop index column"
   ]
  },
  {
   "cell_type": "code",
   "execution_count": 17,
   "id": "96f643cc",
   "metadata": {},
   "outputs": [],
   "source": [
    "df_reddit = df_reddit.drop(df_reddit.columns[0], axis=1)"
   ]
  },
  {
   "cell_type": "markdown",
   "id": "82ec8b24",
   "metadata": {},
   "source": [
    "Eliminate neutral sentiment records"
   ]
  },
  {
   "cell_type": "code",
   "execution_count": 18,
   "id": "2bb43f8e",
   "metadata": {},
   "outputs": [],
   "source": [
    "df_reddit = df_reddit[df_reddit['sentiment'] != 'neutral']"
   ]
  },
  {
   "cell_type": "markdown",
   "id": "f2d602a8",
   "metadata": {},
   "source": [
    "Check missing values"
   ]
  },
  {
   "cell_type": "code",
   "execution_count": 19,
   "id": "47e0d2ea",
   "metadata": {},
   "outputs": [
    {
     "data": {
      "text/plain": [
       "Comment      0\n",
       "sentiment    0\n",
       "dtype: int64"
      ]
     },
     "execution_count": 19,
     "metadata": {},
     "output_type": "execute_result"
    }
   ],
   "source": [
    "df_reddit.isna().sum()"
   ]
  },
  {
   "cell_type": "code",
   "execution_count": 20,
   "id": "09da2855",
   "metadata": {},
   "outputs": [],
   "source": [
    "df_reddit = df_reddit.dropna(subset='Comment')"
   ]
  },
  {
   "cell_type": "markdown",
   "id": "37e0e018",
   "metadata": {},
   "source": [
    "Check duplicates"
   ]
  },
  {
   "cell_type": "code",
   "execution_count": 21,
   "id": "1a89e922",
   "metadata": {},
   "outputs": [
    {
     "data": {
      "text/plain": [
       "298"
      ]
     },
     "execution_count": 21,
     "metadata": {},
     "output_type": "execute_result"
    }
   ],
   "source": [
    "df_reddit.duplicated().sum()"
   ]
  },
  {
   "cell_type": "code",
   "execution_count": 22,
   "id": "84220b21",
   "metadata": {},
   "outputs": [],
   "source": [
    "df_reddit = df_reddit.drop_duplicates()"
   ]
  },
  {
   "cell_type": "markdown",
   "id": "ca99c6cf",
   "metadata": {},
   "source": [
    "Normalize text"
   ]
  },
  {
   "cell_type": "code",
   "execution_count": 23,
   "id": "12186d78",
   "metadata": {},
   "outputs": [],
   "source": [
    "df_reddit['Comment'] = df_reddit['Comment'].apply(normalize_text)"
   ]
  },
  {
   "cell_type": "markdown",
   "id": "1cdfcf36",
   "metadata": {},
   "source": [
    "Map sentiment column"
   ]
  },
  {
   "cell_type": "code",
   "execution_count": 24,
   "id": "f2b6b9a7",
   "metadata": {},
   "outputs": [],
   "source": [
    "df_reddit['sentiment'] = df_reddit['sentiment'].map({'positive': 1, 'negative': 0})"
   ]
  },
  {
   "cell_type": "markdown",
   "id": "8f2e17fa",
   "metadata": {},
   "source": [
    "Remove short text"
   ]
  },
  {
   "cell_type": "code",
   "execution_count": 25,
   "id": "145da4eb",
   "metadata": {},
   "outputs": [
    {
     "name": "stdout",
     "output_type": "stream",
     "text": [
      "Number of short content rows: 1242\n"
     ]
    }
   ],
   "source": [
    "short_content_count = df_reddit[df_reddit['Comment'].str.len() <= 20].shape[0]\n",
    "print(f\"Number of short content rows: {short_content_count}\")"
   ]
  },
  {
   "cell_type": "code",
   "execution_count": 26,
   "id": "5c4baacf",
   "metadata": {},
   "outputs": [],
   "source": [
    "df_reddit = df_reddit[df_reddit['Comment'].str.len() > 20] "
   ]
  },
  {
   "cell_type": "markdown",
   "id": "bd6eef2f",
   "metadata": {},
   "source": [
    "Rename columns"
   ]
  },
  {
   "cell_type": "code",
   "execution_count": 27,
   "id": "6c612848",
   "metadata": {},
   "outputs": [],
   "source": [
    "df_reddit = df_reddit.rename(columns={\n",
    "    'Comment': 'user_review',\n",
    "    'sentiment': 'user_suggestion'\n",
    "})"
   ]
  },
  {
   "cell_type": "code",
   "execution_count": 28,
   "id": "9084b3eb",
   "metadata": {},
   "outputs": [
    {
     "data": {
      "text/html": [
       "<div>\n",
       "<style scoped>\n",
       "    .dataframe tbody tr th:only-of-type {\n",
       "        vertical-align: middle;\n",
       "    }\n",
       "\n",
       "    .dataframe tbody tr th {\n",
       "        vertical-align: top;\n",
       "    }\n",
       "\n",
       "    .dataframe thead th {\n",
       "        text-align: right;\n",
       "    }\n",
       "</style>\n",
       "<table border=\"1\" class=\"dataframe\">\n",
       "  <thead>\n",
       "    <tr style=\"text-align: right;\">\n",
       "      <th></th>\n",
       "      <th>user_review</th>\n",
       "      <th>user_suggestion</th>\n",
       "    </tr>\n",
       "  </thead>\n",
       "  <tbody>\n",
       "    <tr>\n",
       "      <th>0</th>\n",
       "      <td>them: i don't think i like this game.me: but y...</td>\n",
       "      <td>0</td>\n",
       "    </tr>\n",
       "    <tr>\n",
       "      <th>1</th>\n",
       "      <td>then you leave them to farm the smaller creatu...</td>\n",
       "      <td>0</td>\n",
       "    </tr>\n",
       "    <tr>\n",
       "      <th>2</th>\n",
       "      <td>nothing beats the feeling you get when you see...</td>\n",
       "      <td>1</td>\n",
       "    </tr>\n",
       "    <tr>\n",
       "      <th>3</th>\n",
       "      <td>[also, they're made of paper](edit: i tried to...</td>\n",
       "      <td>0</td>\n",
       "    </tr>\n",
       "    <tr>\n",
       "      <th>4</th>\n",
       "      <td>haha... that was exactly it when my brother tr...</td>\n",
       "      <td>1</td>\n",
       "    </tr>\n",
       "    <tr>\n",
       "      <th>...</th>\n",
       "      <td>...</td>\n",
       "      <td>...</td>\n",
       "    </tr>\n",
       "    <tr>\n",
       "      <th>23175</th>\n",
       "      <td>\\&gt;:(not unless you figure out how do make this...</td>\n",
       "      <td>0</td>\n",
       "    </tr>\n",
       "    <tr>\n",
       "      <th>23179</th>\n",
       "      <td>pa loves all his children and cousins equally,...</td>\n",
       "      <td>1</td>\n",
       "    </tr>\n",
       "    <tr>\n",
       "      <th>23185</th>\n",
       "      <td>myself, a human being of my own free will, has...</td>\n",
       "      <td>1</td>\n",
       "    </tr>\n",
       "    <tr>\n",
       "      <th>23187</th>\n",
       "      <td>sorry, but are you going to [edit]( this, or i...</td>\n",
       "      <td>1</td>\n",
       "    </tr>\n",
       "    <tr>\n",
       "      <th>23188</th>\n",
       "      <td>haha i had to put it there because a part of t...</td>\n",
       "      <td>1</td>\n",
       "    </tr>\n",
       "  </tbody>\n",
       "</table>\n",
       "<p>12566 rows × 2 columns</p>\n",
       "</div>"
      ],
      "text/plain": [
       "                                             user_review  user_suggestion\n",
       "0      them: i don't think i like this game.me: but y...                0\n",
       "1      then you leave them to farm the smaller creatu...                0\n",
       "2      nothing beats the feeling you get when you see...                1\n",
       "3      [also, they're made of paper](edit: i tried to...                0\n",
       "4      haha... that was exactly it when my brother tr...                1\n",
       "...                                                  ...              ...\n",
       "23175  \\>:(not unless you figure out how do make this...                0\n",
       "23179  pa loves all his children and cousins equally,...                1\n",
       "23185  myself, a human being of my own free will, has...                1\n",
       "23187  sorry, but are you going to [edit]( this, or i...                1\n",
       "23188  haha i had to put it there because a part of t...                1\n",
       "\n",
       "[12566 rows x 2 columns]"
      ]
     },
     "execution_count": 28,
     "metadata": {},
     "output_type": "execute_result"
    }
   ],
   "source": [
    "df_reddit"
   ]
  },
  {
   "cell_type": "markdown",
   "id": "01acc936",
   "metadata": {},
   "source": [
    "## 3. Main dataset"
   ]
  },
  {
   "cell_type": "code",
   "execution_count": 29,
   "id": "3644d78f",
   "metadata": {},
   "outputs": [],
   "source": [
    "df = pd.concat([df_steam, df_reddit], axis=0).reset_index(drop=True)"
   ]
  },
  {
   "cell_type": "code",
   "execution_count": 30,
   "id": "623d7e06",
   "metadata": {},
   "outputs": [
    {
     "data": {
      "text/html": [
       "<div>\n",
       "<style scoped>\n",
       "    .dataframe tbody tr th:only-of-type {\n",
       "        vertical-align: middle;\n",
       "    }\n",
       "\n",
       "    .dataframe tbody tr th {\n",
       "        vertical-align: top;\n",
       "    }\n",
       "\n",
       "    .dataframe thead th {\n",
       "        text-align: right;\n",
       "    }\n",
       "</style>\n",
       "<table border=\"1\" class=\"dataframe\">\n",
       "  <thead>\n",
       "    <tr style=\"text-align: right;\">\n",
       "      <th></th>\n",
       "      <th>user_review</th>\n",
       "      <th>user_suggestion</th>\n",
       "    </tr>\n",
       "  </thead>\n",
       "  <tbody>\n",
       "    <tr>\n",
       "      <th>0</th>\n",
       "      <td>i'm scared and hearing creepy voices. so i'll ...</td>\n",
       "      <td>1</td>\n",
       "    </tr>\n",
       "    <tr>\n",
       "      <th>1</th>\n",
       "      <td>best game, more better than sam pepper's youtu...</td>\n",
       "      <td>1</td>\n",
       "    </tr>\n",
       "    <tr>\n",
       "      <th>2</th>\n",
       "      <td>a littly iffy on the controls, but once you kn...</td>\n",
       "      <td>1</td>\n",
       "    </tr>\n",
       "    <tr>\n",
       "      <th>3</th>\n",
       "      <td>great game, fun and colorful and all that.a si...</td>\n",
       "      <td>1</td>\n",
       "    </tr>\n",
       "    <tr>\n",
       "      <th>4</th>\n",
       "      <td>not many games have the cute tag right next to...</td>\n",
       "      <td>1</td>\n",
       "    </tr>\n",
       "    <tr>\n",
       "      <th>...</th>\n",
       "      <td>...</td>\n",
       "      <td>...</td>\n",
       "    </tr>\n",
       "    <tr>\n",
       "      <th>30007</th>\n",
       "      <td>\\&gt;:(not unless you figure out how do make this...</td>\n",
       "      <td>0</td>\n",
       "    </tr>\n",
       "    <tr>\n",
       "      <th>30008</th>\n",
       "      <td>pa loves all his children and cousins equally,...</td>\n",
       "      <td>1</td>\n",
       "    </tr>\n",
       "    <tr>\n",
       "      <th>30009</th>\n",
       "      <td>myself, a human being of my own free will, has...</td>\n",
       "      <td>1</td>\n",
       "    </tr>\n",
       "    <tr>\n",
       "      <th>30010</th>\n",
       "      <td>sorry, but are you going to [edit]( this, or i...</td>\n",
       "      <td>1</td>\n",
       "    </tr>\n",
       "    <tr>\n",
       "      <th>30011</th>\n",
       "      <td>haha i had to put it there because a part of t...</td>\n",
       "      <td>1</td>\n",
       "    </tr>\n",
       "  </tbody>\n",
       "</table>\n",
       "<p>30012 rows × 2 columns</p>\n",
       "</div>"
      ],
      "text/plain": [
       "                                             user_review  user_suggestion\n",
       "0      i'm scared and hearing creepy voices. so i'll ...                1\n",
       "1      best game, more better than sam pepper's youtu...                1\n",
       "2      a littly iffy on the controls, but once you kn...                1\n",
       "3      great game, fun and colorful and all that.a si...                1\n",
       "4      not many games have the cute tag right next to...                1\n",
       "...                                                  ...              ...\n",
       "30007  \\>:(not unless you figure out how do make this...                0\n",
       "30008  pa loves all his children and cousins equally,...                1\n",
       "30009  myself, a human being of my own free will, has...                1\n",
       "30010  sorry, but are you going to [edit]( this, or i...                1\n",
       "30011  haha i had to put it there because a part of t...                1\n",
       "\n",
       "[30012 rows x 2 columns]"
      ]
     },
     "execution_count": 30,
     "metadata": {},
     "output_type": "execute_result"
    }
   ],
   "source": [
    "df"
   ]
  },
  {
   "cell_type": "code",
   "execution_count": 31,
   "id": "90e4da3c",
   "metadata": {},
   "outputs": [],
   "source": [
    "df.to_csv('review_preprocessed.csv')"
   ]
  },
  {
   "cell_type": "code",
   "execution_count": 32,
   "id": "8ae19a8c",
   "metadata": {},
   "outputs": [
    {
     "data": {
      "text/plain": [
       "user_suggestion\n",
       "1    18788\n",
       "0    11224\n",
       "Name: count, dtype: int64"
      ]
     },
     "execution_count": 32,
     "metadata": {},
     "output_type": "execute_result"
    }
   ],
   "source": [
    "df['user_suggestion'].value_counts()"
   ]
  },
  {
   "cell_type": "markdown",
   "id": "bce626cf",
   "metadata": {},
   "source": [
    "Split train + valid + test (8:1:1)"
   ]
  },
  {
   "cell_type": "code",
   "execution_count": 33,
   "id": "f4c20b58",
   "metadata": {},
   "outputs": [],
   "source": [
    "# First split: 80% train, 20% temp (val + test)\n",
    "train_df, temp_df = train_test_split(\n",
    "    df,\n",
    "    test_size=0.2,\n",
    "    random_state=42,\n",
    "    stratify=df['user_suggestion']  \n",
    ")\n",
    "\n",
    "# Second split: 10% val, 10% test (from the 20% temp)\n",
    "val_df, test_df = train_test_split(\n",
    "    temp_df,\n",
    "    test_size=0.5,\n",
    "    random_state=42,\n",
    "    stratify=temp_df['user_suggestion']\n",
    ")"
   ]
  },
  {
   "cell_type": "code",
   "execution_count": 34,
   "id": "b0bbac4a",
   "metadata": {},
   "outputs": [],
   "source": [
    "train_df.to_csv('train.csv')\n",
    "test_df.to_csv('test.csv')\n",
    "val_df.to_csv('val.csv')"
   ]
  },
  {
   "cell_type": "code",
   "execution_count": null,
   "id": "dfada181",
   "metadata": {},
   "outputs": [],
   "source": []
  }
 ],
 "metadata": {
  "kernelspec": {
   "display_name": "Python 3",
   "language": "python",
   "name": "python3"
  },
  "language_info": {
   "codemirror_mode": {
    "name": "ipython",
    "version": 3
   },
   "file_extension": ".py",
   "mimetype": "text/x-python",
   "name": "python",
   "nbconvert_exporter": "python",
   "pygments_lexer": "ipython3",
   "version": "3.11.4"
  }
 },
 "nbformat": 4,
 "nbformat_minor": 5
}
